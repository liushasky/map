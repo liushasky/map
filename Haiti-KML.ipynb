{
 "cells": [
  {
   "cell_type": "code",
   "execution_count": 2,
   "metadata": {},
   "outputs": [],
   "source": [
    "from fastkml import kml"
   ]
  },
  {
   "cell_type": "code",
   "execution_count": 3,
   "metadata": {},
   "outputs": [],
   "source": [
    "from fastkml import kml"
   ]
  },
  {
   "cell_type": "code",
   "execution_count": 10,
   "metadata": {},
   "outputs": [],
   "source": [
    "with open(\"hotosm_hti_roads_lines.kml\", 'rt', encoding=\"utf-8\") as myfile:doc=myfile.read()"
   ]
  },
  {
   "cell_type": "code",
   "execution_count": 11,
   "metadata": {},
   "outputs": [],
   "source": [
    "k = kml.KML()"
   ]
  },
  {
   "cell_type": "code",
   "execution_count": 12,
   "metadata": {},
   "outputs": [
    {
     "ename": "ValueError",
     "evalue": "Unicode strings with encoding declaration are not supported. Please use bytes input or XML fragments without declaration.",
     "output_type": "error",
     "traceback": [
      "\u001b[0;31m---------------------------------------------------------------------------\u001b[0m",
      "\u001b[0;31mValueError\u001b[0m                                Traceback (most recent call last)",
      "\u001b[0;32m<ipython-input-12-934d811d7202>\u001b[0m in \u001b[0;36m<module>\u001b[0;34m\u001b[0m\n\u001b[0;32m----> 1\u001b[0;31m \u001b[0mk\u001b[0m\u001b[0;34m.\u001b[0m\u001b[0mfrom_string\u001b[0m\u001b[0;34m(\u001b[0m\u001b[0mdoc\u001b[0m\u001b[0;34m)\u001b[0m\u001b[0;34m\u001b[0m\u001b[0;34m\u001b[0m\u001b[0m\n\u001b[0m",
      "\u001b[0;32m/opt/conda/lib/python3.9/site-packages/fastkml/kml.py\u001b[0m in \u001b[0;36mfrom_string\u001b[0;34m(self, xml_string)\u001b[0m\n\u001b[1;32m     87\u001b[0m         \u001b[0;34m\"\"\" create a KML object from a xml string\"\"\"\u001b[0m\u001b[0;34m\u001b[0m\u001b[0;34m\u001b[0m\u001b[0m\n\u001b[1;32m     88\u001b[0m         \u001b[0;32mif\u001b[0m \u001b[0mconfig\u001b[0m\u001b[0;34m.\u001b[0m\u001b[0mLXML\u001b[0m\u001b[0;34m:\u001b[0m\u001b[0;34m\u001b[0m\u001b[0;34m\u001b[0m\u001b[0m\n\u001b[0;32m---> 89\u001b[0;31m             element = etree.fromstring(\n\u001b[0m\u001b[1;32m     90\u001b[0m                 \u001b[0mxml_string\u001b[0m\u001b[0;34m,\u001b[0m\u001b[0;34m\u001b[0m\u001b[0;34m\u001b[0m\u001b[0m\n\u001b[1;32m     91\u001b[0m                 \u001b[0mparser\u001b[0m\u001b[0;34m=\u001b[0m\u001b[0metree\u001b[0m\u001b[0;34m.\u001b[0m\u001b[0mXMLParser\u001b[0m\u001b[0;34m(\u001b[0m\u001b[0mhuge_tree\u001b[0m\u001b[0;34m=\u001b[0m\u001b[0;32mTrue\u001b[0m\u001b[0;34m)\u001b[0m\u001b[0;34m\u001b[0m\u001b[0;34m\u001b[0m\u001b[0m\n",
      "\u001b[0;32msrc/lxml/etree.pyx\u001b[0m in \u001b[0;36mlxml.etree.fromstring\u001b[0;34m()\u001b[0m\n",
      "\u001b[0;32msrc/lxml/parser.pxi\u001b[0m in \u001b[0;36mlxml.etree._parseMemoryDocument\u001b[0;34m()\u001b[0m\n",
      "\u001b[0;31mValueError\u001b[0m: Unicode strings with encoding declaration are not supported. Please use bytes input or XML fragments without declaration."
     ]
    }
   ],
   "source": [
    "k.from_string(doc)\n"
   ]
  },
  {
   "cell_type": "code",
   "execution_count": 14,
   "metadata": {},
   "outputs": [
    {
     "ename": "AttributeError",
     "evalue": "module 'os' has no attribute 'startfile'",
     "output_type": "error",
     "traceback": [
      "\u001b[0;31m---------------------------------------------------------------------------\u001b[0m",
      "\u001b[0;31mAttributeError\u001b[0m                            Traceback (most recent call last)",
      "\u001b[0;32m<ipython-input-14-975b85addd9b>\u001b[0m in \u001b[0;36m<module>\u001b[0;34m\u001b[0m\n\u001b[1;32m      1\u001b[0m \u001b[0;32mimport\u001b[0m \u001b[0mos\u001b[0m\u001b[0;34m\u001b[0m\u001b[0;34m\u001b[0m\u001b[0m\n\u001b[0;32m----> 2\u001b[0;31m \u001b[0mos\u001b[0m\u001b[0;34m.\u001b[0m\u001b[0mstartfile\u001b[0m\u001b[0;34m(\u001b[0m\u001b[0;34m\"hotosm_hti_roads_lines.kml\"\u001b[0m\u001b[0;34m)\u001b[0m\u001b[0;34m\u001b[0m\u001b[0;34m\u001b[0m\u001b[0m\n\u001b[0m",
      "\u001b[0;31mAttributeError\u001b[0m: module 'os' has no attribute 'startfile'"
     ]
    }
   ],
   "source": [
    "import os\n",
    "os.startfile(\"hotosm_hti_roads_lines.kml\")"
   ]
  },
  {
   "cell_type": "code",
   "execution_count": 15,
   "metadata": {},
   "outputs": [],
   "source": [
    ">>> from fastkml import kml\n",
    ">>> from shapely.geometry import Point, LineString, Polygon"
   ]
  },
  {
   "cell_type": "code",
   "execution_count": 17,
   "metadata": {},
   "outputs": [
    {
     "name": "stdout",
     "output_type": "stream",
     "text": [
      "<kml xmlns=\"http://www.opengis.net/kml/2.2\">\n",
      "  <Document id=\"docid\">\n",
      "    <name>doc name</name>\n",
      "    <description>doc description</description>\n",
      "    <visibility>1</visibility>\n",
      "    <Folder id=\"fid\">\n",
      "      <name>f name</name>\n",
      "      <description>f description</description>\n",
      "      <visibility>1</visibility>\n",
      "      <Folder id=\"nested-fid\">\n",
      "        <name>nested f name</name>\n",
      "        <description>nested f description</description>\n",
      "        <visibility>1</visibility>\n",
      "      </Folder>\n",
      "    </Folder>\n",
      "    <Folder id=\"id2\">\n",
      "      <name>name2</name>\n",
      "      <description>description2</description>\n",
      "      <visibility>1</visibility>\n",
      "      <Placemark id=\"id\">\n",
      "        <name>name</name>\n",
      "        <description>description</description>\n",
      "        <visibility>1</visibility>\n",
      "        <Polygon>\n",
      "          <outerBoundaryIs>\n",
      "            <LinearRing>\n",
      "              <coordinates>0.000000,0.000000,0.000000 1.000000,1.000000,0.000000 1.000000,0.000000,1.000000 0.000000,0.000000,0.000000</coordinates>\n",
      "            </LinearRing>\n",
      "          </outerBoundaryIs>\n",
      "        </Polygon>\n",
      "      </Placemark>\n",
      "    </Folder>\n",
      "  </Document>\n",
      "</kml>\n",
      "\n"
     ]
    }
   ],
   "source": [
    "# Import the library\n",
    ">>> from fastkml import kml\n",
    ">>> from shapely.geometry import Point, LineString, Polygon\n",
    "\n",
    "# Create the root KML object\n",
    ">>> k = kml.KML()\n",
    ">>> ns = '{http://www.opengis.net/kml/2.2}'\n",
    "\n",
    "# Create a KML Document and add it to the KML root object\n",
    ">>> d = kml.Document(ns, 'docid', 'doc name', 'doc description')\n",
    ">>> k.append(d)\n",
    "\n",
    "# Create a KML Folder and add it to the Document\n",
    ">>> f = kml.Folder(ns, 'fid', 'f name', 'f description')\n",
    ">>> d.append(f)\n",
    "\n",
    "# Create a KML Folder and nest it in the first Folder\n",
    ">>> nf = kml.Folder(ns, 'nested-fid', 'nested f name', 'nested f description')\n",
    ">>> f.append(nf)\n",
    "\n",
    "# Create a second KML Folder within the Document\n",
    ">>> f2 = kml.Folder(ns, 'id2', 'name2', 'description2')\n",
    ">>> d.append(f2)\n",
    "\n",
    "# Create a Placemark with a simple polygon geometry and add it to the\n",
    "# second folder of the Document\n",
    ">>> p = kml.Placemark(ns, 'id', 'name', 'description')\n",
    ">>> p.geometry =  Polygon([(0, 0, 0), (1, 1, 0), (1, 0, 1)])\n",
    ">>> f2.append(p)\n",
    "\n",
    "# Print out the KML Object as a string\n",
    ">>> print(k.to_string(prettyprint=True))"
   ]
  },
  {
   "cell_type": "code",
   "execution_count": 31,
   "metadata": {},
   "outputs": [],
   "source": [
    "# Start by importing the kml module\n",
    "from fastkml import kml\n",
    "\n",
    "#Read file into string and convert to UTF-8 (Python3 style)\n",
    "with open(\"hotosm_hti_roads_lines.kml\", 'rt', encoding=\"utf-8\") as myfile:\n",
    "    doc=myfile.read()"
   ]
  },
  {
   "cell_type": "code",
   "execution_count": 34,
   "metadata": {},
   "outputs": [
    {
     "ename": "NameError",
     "evalue": "name 'urlopen' is not defined",
     "output_type": "error",
     "traceback": [
      "\u001b[0;31m---------------------------------------------------------------------------\u001b[0m",
      "\u001b[0;31mNameError\u001b[0m                                 Traceback (most recent call last)",
      "\u001b[0;32m<ipython-input-34-fcbfcc8066b5>\u001b[0m in \u001b[0;36m<module>\u001b[0;34m\u001b[0m\n\u001b[1;32m      1\u001b[0m \u001b[0;32mfrom\u001b[0m \u001b[0mlxml\u001b[0m \u001b[0;32mimport\u001b[0m \u001b[0metree\u001b[0m\u001b[0;34m\u001b[0m\u001b[0;34m\u001b[0m\u001b[0m\n\u001b[1;32m      2\u001b[0m \u001b[0;34m\u001b[0m\u001b[0m\n\u001b[0;32m----> 3\u001b[0;31m \u001b[0mfile_content\u001b[0m \u001b[0;34m=\u001b[0m \u001b[0murlopen\u001b[0m\u001b[0;34m(\u001b[0m\u001b[0mlink\u001b[0m\u001b[0;34m)\u001b[0m\u001b[0;34m.\u001b[0m\u001b[0mread\u001b[0m\u001b[0;34m(\u001b[0m\u001b[0;34m)\u001b[0m\u001b[0;34m\u001b[0m\u001b[0;34m\u001b[0m\u001b[0m\n\u001b[0m\u001b[1;32m      4\u001b[0m \u001b[0;34m\u001b[0m\u001b[0m\n\u001b[1;32m      5\u001b[0m \u001b[0mparser\u001b[0m \u001b[0;34m=\u001b[0m \u001b[0metree\u001b[0m\u001b[0;34m.\u001b[0m\u001b[0mXMLParser\u001b[0m\u001b[0;34m(\u001b[0m\u001b[0mrecover\u001b[0m\u001b[0;34m=\u001b[0m\u001b[0;32mTrue\u001b[0m\u001b[0;34m)\u001b[0m\u001b[0;34m\u001b[0m\u001b[0;34m\u001b[0m\u001b[0m\n",
      "\u001b[0;31mNameError\u001b[0m: name 'urlopen' is not defined"
     ]
    }
   ],
   "source": [
    "from lxml import etree\n",
    "\n",
    "file_content = urlopen(link).read()\n",
    "\n",
    "parser = etree.XMLParser(recover=True)\n",
    "\n",
    "xml = etree.fromstring(file_content, parser)"
   ]
  },
  {
   "cell_type": "code",
   "execution_count": 33,
   "metadata": {},
   "outputs": [
    {
     "ename": "ValueError",
     "evalue": "Unicode strings with encoding declaration are not supported. Please use bytes input or XML fragments without declaration.",
     "output_type": "error",
     "traceback": [
      "\u001b[0;31m---------------------------------------------------------------------------\u001b[0m",
      "\u001b[0;31mValueError\u001b[0m                                Traceback (most recent call last)",
      "\u001b[0;32m<ipython-input-33-28de60720350>\u001b[0m in \u001b[0;36m<module>\u001b[0;34m\u001b[0m\n\u001b[1;32m      1\u001b[0m \u001b[0mk\u001b[0m \u001b[0;34m=\u001b[0m \u001b[0mkml\u001b[0m\u001b[0;34m.\u001b[0m\u001b[0mKML\u001b[0m\u001b[0;34m(\u001b[0m\u001b[0;34m)\u001b[0m\u001b[0;34m\u001b[0m\u001b[0;34m\u001b[0m\u001b[0m\n\u001b[0;32m----> 2\u001b[0;31m \u001b[0mk\u001b[0m\u001b[0;34m.\u001b[0m\u001b[0mfrom_string\u001b[0m\u001b[0;34m(\u001b[0m\u001b[0mdoc\u001b[0m\u001b[0;34m)\u001b[0m\u001b[0;34m\u001b[0m\u001b[0;34m\u001b[0m\u001b[0m\n\u001b[0m",
      "\u001b[0;32m/opt/conda/lib/python3.9/site-packages/fastkml/kml.py\u001b[0m in \u001b[0;36mfrom_string\u001b[0;34m(self, xml_string)\u001b[0m\n\u001b[1;32m     87\u001b[0m         \u001b[0;34m\"\"\" create a KML object from a xml string\"\"\"\u001b[0m\u001b[0;34m\u001b[0m\u001b[0;34m\u001b[0m\u001b[0m\n\u001b[1;32m     88\u001b[0m         \u001b[0;32mif\u001b[0m \u001b[0mconfig\u001b[0m\u001b[0;34m.\u001b[0m\u001b[0mLXML\u001b[0m\u001b[0;34m:\u001b[0m\u001b[0;34m\u001b[0m\u001b[0;34m\u001b[0m\u001b[0m\n\u001b[0;32m---> 89\u001b[0;31m             element = etree.fromstring(\n\u001b[0m\u001b[1;32m     90\u001b[0m                 \u001b[0mxml_string\u001b[0m\u001b[0;34m,\u001b[0m\u001b[0;34m\u001b[0m\u001b[0;34m\u001b[0m\u001b[0m\n\u001b[1;32m     91\u001b[0m                 \u001b[0mparser\u001b[0m\u001b[0;34m=\u001b[0m\u001b[0metree\u001b[0m\u001b[0;34m.\u001b[0m\u001b[0mXMLParser\u001b[0m\u001b[0;34m(\u001b[0m\u001b[0mhuge_tree\u001b[0m\u001b[0;34m=\u001b[0m\u001b[0;32mTrue\u001b[0m\u001b[0;34m)\u001b[0m\u001b[0;34m\u001b[0m\u001b[0;34m\u001b[0m\u001b[0m\n",
      "\u001b[0;32msrc/lxml/etree.pyx\u001b[0m in \u001b[0;36mlxml.etree.fromstring\u001b[0;34m()\u001b[0m\n",
      "\u001b[0;32msrc/lxml/parser.pxi\u001b[0m in \u001b[0;36mlxml.etree._parseMemoryDocument\u001b[0;34m()\u001b[0m\n",
      "\u001b[0;31mValueError\u001b[0m: Unicode strings with encoding declaration are not supported. Please use bytes input or XML fragments without declaration."
     ]
    }
   ],
   "source": [
    "k = kml.KML()\n",
    "k.from_string(doc)"
   ]
  },
  {
   "cell_type": "code",
   "execution_count": null,
   "metadata": {},
   "outputs": [],
   "source": []
  },
  {
   "cell_type": "code",
   "execution_count": null,
   "metadata": {},
   "outputs": [],
   "source": []
  },
  {
   "cell_type": "code",
   "execution_count": null,
   "metadata": {},
   "outputs": [],
   "source": []
  },
  {
   "cell_type": "code",
   "execution_count": null,
   "metadata": {},
   "outputs": [],
   "source": []
  },
  {
   "cell_type": "code",
   "execution_count": 23,
   "metadata": {},
   "outputs": [],
   "source": [
    "# OR\n",
    "\n",
    "# Setup the string which contains the KML file we want to read\n",
    "doc = \"\"\"<hotosm_hti_roads_lines.xml version=\"1.0\" encoding=\"UTF-8\"?>\n",
    "... <kml xmlns=\"http://www.opengis.net/kml/2.2\">\n",
    "... <Document>\n",
    "...   <name>Document.kml</name>\n",
    "...   <open>1</open>\n",
    "...   <Style id=\"exampleStyleDocument\">\n",
    "...     <LabelStyle>\n",
    "...       <color>ff0000cc</color>\n",
    "...     </LabelStyle>\n",
    "...   </Style>\n",
    "...   <Placemark>\n",
    "...     <name>Document Feature 1</name>\n",
    "...     <styleUrl>#exampleStyleDocument</styleUrl>\n",
    "...     <Point>\n",
    "...       <coordinates>-122.371,37.816,0</coordinates>\n",
    "...     </Point>\n",
    "...   </Placemark>\n",
    "...   <Placemark>\n",
    "...     <name>Document Feature 2</name>\n",
    "...     <styleUrl>#exampleStyleDocument</styleUrl>\n",
    "...     <Point>\n",
    "...       <coordinates>-122.370,37.817,0</coordinates>\n",
    "...     </Point>\n",
    "...   </Placemark>\n",
    "... </Document>\n",
    "... </kml>\"\"\""
   ]
  },
  {
   "cell_type": "code",
   "execution_count": 25,
   "metadata": {},
   "outputs": [],
   "source": [
    "# Create the KML object to store the parsed result\n",
    ">>> k = kml.KML()\n",
    "\n"
   ]
  },
  {
   "cell_type": "code",
   "execution_count": 27,
   "metadata": {},
   "outputs": [
    {
     "ename": "XMLSyntaxError",
     "evalue": "attributes construct error, line 1, column 59 (<string>, line 1)",
     "output_type": "error",
     "traceback": [
      "Traceback \u001b[0;36m(most recent call last)\u001b[0m:\n",
      "  File \u001b[1;32m\"/opt/conda/lib/python3.9/site-packages/IPython/core/interactiveshell.py\"\u001b[0m, line \u001b[1;32m3418\u001b[0m, in \u001b[1;35mrun_code\u001b[0m\n    exec(code_obj, self.user_global_ns, self.user_ns)\n",
      "  File \u001b[1;32m\"<ipython-input-27-138fe86cb668>\"\u001b[0m, line \u001b[1;32m2\u001b[0m, in \u001b[1;35m<module>\u001b[0m\n    k.from_string(doc)\n",
      "  File \u001b[1;32m\"/opt/conda/lib/python3.9/site-packages/fastkml/kml.py\"\u001b[0m, line \u001b[1;32m89\u001b[0m, in \u001b[1;35mfrom_string\u001b[0m\n    element = etree.fromstring(\n",
      "  File \u001b[1;32m\"src/lxml/etree.pyx\"\u001b[0m, line \u001b[1;32m3237\u001b[0m, in \u001b[1;35mlxml.etree.fromstring\u001b[0m\n",
      "  File \u001b[1;32m\"src/lxml/parser.pxi\"\u001b[0m, line \u001b[1;32m1896\u001b[0m, in \u001b[1;35mlxml.etree._parseMemoryDocument\u001b[0m\n",
      "  File \u001b[1;32m\"src/lxml/parser.pxi\"\u001b[0m, line \u001b[1;32m1777\u001b[0m, in \u001b[1;35mlxml.etree._parseDoc\u001b[0m\n",
      "  File \u001b[1;32m\"src/lxml/parser.pxi\"\u001b[0m, line \u001b[1;32m1082\u001b[0m, in \u001b[1;35mlxml.etree._BaseParser._parseUnicodeDoc\u001b[0m\n",
      "  File \u001b[1;32m\"src/lxml/parser.pxi\"\u001b[0m, line \u001b[1;32m615\u001b[0m, in \u001b[1;35mlxml.etree._ParserContext._handleParseResultDoc\u001b[0m\n",
      "  File \u001b[1;32m\"src/lxml/parser.pxi\"\u001b[0m, line \u001b[1;32m725\u001b[0m, in \u001b[1;35mlxml.etree._handleParseResult\u001b[0m\n",
      "\u001b[0;36m  File \u001b[0;32m\"src/lxml/parser.pxi\"\u001b[0;36m, line \u001b[0;32m654\u001b[0;36m, in \u001b[0;35mlxml.etree._raiseParseError\u001b[0;36m\u001b[0m\n",
      "\u001b[0;36m  File \u001b[0;32m\"<string>\"\u001b[0;36m, line \u001b[0;32m1\u001b[0m\n\u001b[0;31mXMLSyntaxError\u001b[0m\u001b[0;31m:\u001b[0m attributes construct error, line 1, column 59\n"
     ]
    }
   ],
   "source": [
    "# Read in the KML string\n",
    "k.from_string(doc)"
   ]
  },
  {
   "cell_type": "code",
   "execution_count": 29,
   "metadata": {},
   "outputs": [
    {
     "data": {
      "text/plain": [
       "0"
      ]
     },
     "execution_count": 29,
     "metadata": {},
     "output_type": "execute_result"
    }
   ],
   "source": [
    "# Next we perform some simple sanity checks\n",
    "\n",
    "# Check that the number of features is correct\n",
    "# This corresponds to the single ``Document``\n",
    "features = list(k.features())\n",
    "len(features)\n"
   ]
  },
  {
   "cell_type": "code",
   "execution_count": 30,
   "metadata": {},
   "outputs": [
    {
     "ename": "NameError",
     "evalue": "name 'file' is not defined",
     "output_type": "error",
     "traceback": [
      "\u001b[0;31m---------------------------------------------------------------------------\u001b[0m",
      "\u001b[0;31mNameError\u001b[0m                                 Traceback (most recent call last)",
      "\u001b[0;32m<ipython-input-30-115158700a87>\u001b[0m in \u001b[0;36m<module>\u001b[0;34m\u001b[0m\n\u001b[1;32m      1\u001b[0m \u001b[0;32mfrom\u001b[0m \u001b[0mfastkml\u001b[0m \u001b[0;32mimport\u001b[0m  \u001b[0mkml\u001b[0m\u001b[0;34m\u001b[0m\u001b[0;34m\u001b[0m\u001b[0m\n\u001b[0;32m----> 2\u001b[0;31m \u001b[0mdoc\u001b[0m \u001b[0;34m=\u001b[0m \u001b[0mfile\u001b[0m\u001b[0;34m(\u001b[0m\u001b[0;34m\"hotosm_hti_roads_lines.kml\"\u001b[0m\u001b[0;34m)\u001b[0m\u001b[0;34m.\u001b[0m\u001b[0mread\u001b[0m\u001b[0;34m(\u001b[0m\u001b[0;34m)\u001b[0m\u001b[0;34m\u001b[0m\u001b[0;34m\u001b[0m\u001b[0m\n\u001b[0m\u001b[1;32m      3\u001b[0m \u001b[0mk\u001b[0m \u001b[0;34m=\u001b[0m \u001b[0mkml\u001b[0m\u001b[0;34m.\u001b[0m\u001b[0mKML\u001b[0m\u001b[0;34m(\u001b[0m\u001b[0;34m)\u001b[0m\u001b[0;34m\u001b[0m\u001b[0;34m\u001b[0m\u001b[0m\n\u001b[1;32m      4\u001b[0m \u001b[0mk\u001b[0m\u001b[0;34m.\u001b[0m\u001b[0mfrom_string\u001b[0m\u001b[0;34m(\u001b[0m\u001b[0mdoc\u001b[0m\u001b[0;34m)\u001b[0m\u001b[0;34m\u001b[0m\u001b[0;34m\u001b[0m\u001b[0m\n\u001b[1;32m      5\u001b[0m \u001b[0mlen\u001b[0m\u001b[0;34m(\u001b[0m\u001b[0mk\u001b[0m\u001b[0;34m.\u001b[0m\u001b[0mfeatures\u001b[0m\u001b[0;34m(\u001b[0m\u001b[0;34m)\u001b[0m\u001b[0;34m)\u001b[0m\u001b[0;34m\u001b[0m\u001b[0;34m\u001b[0m\u001b[0m\n",
      "\u001b[0;31mNameError\u001b[0m: name 'file' is not defined"
     ]
    }
   ],
   "source": [
    "from fastkml import  kml\n",
    "doc = file(\"hotosm_hti_roads_lines.kml\").read()\n",
    "k = kml.KML()\n",
    "k.from_string(doc)\n",
    "len(k.features())"
   ]
  },
  {
   "cell_type": "code",
   "execution_count": null,
   "metadata": {},
   "outputs": [],
   "source": []
  }
 ],
 "metadata": {
  "kernelspec": {
   "display_name": "Python (ox)",
   "language": "python",
   "name": "ox"
  },
  "language_info": {
   "codemirror_mode": {
    "name": "ipython",
    "version": 3
   },
   "file_extension": ".py",
   "mimetype": "text/x-python",
   "name": "python",
   "nbconvert_exporter": "python",
   "pygments_lexer": "ipython3",
   "version": "3.9.1"
  }
 },
 "nbformat": 4,
 "nbformat_minor": 4
}
