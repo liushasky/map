{
 "cells": [
  {
   "cell_type": "markdown",
   "metadata": {},
   "source": [
    "# Data from HOTOSM"
   ]
  },
  {
   "cell_type": "markdown",
   "metadata": {},
   "source": [
    "## Data source is from https://data.humdata.org/dataset/hotosm_hti_roads"
   ]
  },
  {
   "cell_type": "code",
   "execution_count": 15,
   "metadata": {},
   "outputs": [],
   "source": [
    "# Start by importing the kml module\n",
    "from fastkml import kml"
   ]
  },
  {
   "cell_type": "code",
   "execution_count": 19,
   "metadata": {},
   "outputs": [],
   "source": [
    "# Read file into string and convert to UTF-8 (Python3 style)\n",
    "with open(\"hotosm_hti_roads_lines.kml\", 'rt') as myfile:\n",
    "    doc=myfile.read().encode(\"utf-8\")"
   ]
  },
  {
   "cell_type": "code",
   "execution_count": 38,
   "metadata": {},
   "outputs": [],
   "source": [
    "# Create the KML object to store the parsed result\n",
    "k = kml.KML()"
   ]
  },
  {
   "cell_type": "code",
   "execution_count": 39,
   "metadata": {},
   "outputs": [],
   "source": [
    "# Read in the KML string\n",
    "k.from_string(doc)"
   ]
  },
  {
   "cell_type": "code",
   "execution_count": 40,
   "metadata": {},
   "outputs": [],
   "source": [
    "# Next we perform some simple sanity checks\n",
    "\n",
    "# Check that the number of features is correct\n",
    "# This corresponds to the single ``Document``\n",
    "\n",
    "features = list(k.features())"
   ]
  },
  {
   "cell_type": "code",
   "execution_count": 41,
   "metadata": {},
   "outputs": [
    {
     "data": {
      "text/plain": [
       "1"
      ]
     },
     "execution_count": 41,
     "metadata": {},
     "output_type": "execute_result"
    }
   ],
   "source": [
    "len(features)"
   ]
  },
  {
   "cell_type": "code",
   "execution_count": 42,
   "metadata": {},
   "outputs": [
    {
     "data": {
      "text/plain": [
       "<generator object _Container.features at 0x7f9eac1745f0>"
      ]
     },
     "execution_count": 42,
     "metadata": {},
     "output_type": "execute_result"
    }
   ],
   "source": [
    "# Check that we can access the features as a generator\n",
    "# (The two Placemarks of the Document)\n",
    "features[0].features()"
   ]
  },
  {
   "cell_type": "code",
   "execution_count": 43,
   "metadata": {},
   "outputs": [
    {
     "data": {
      "text/plain": [
       "1"
      ]
     },
     "execution_count": 43,
     "metadata": {},
     "output_type": "execute_result"
    }
   ],
   "source": [
    "f2 = list(features[0].features())\n",
    "len(f2)"
   ]
  },
  {
   "cell_type": "code",
   "execution_count": 44,
   "metadata": {},
   "outputs": [
    {
     "data": {
      "text/plain": [
       "[<fastkml.kml.Folder at 0x7f9ee6914220>]"
      ]
     },
     "execution_count": 44,
     "metadata": {},
     "output_type": "execute_result"
    }
   ],
   "source": [
    "f2"
   ]
  },
  {
   "cell_type": "code",
   "execution_count": 45,
   "metadata": {},
   "outputs": [
    {
     "data": {
      "text/plain": [
       "<fastkml.kml.Folder at 0x7f9ee6914220>"
      ]
     },
     "execution_count": 45,
     "metadata": {},
     "output_type": "execute_result"
    }
   ],
   "source": [
    "# Check specifics of the first Placemark in the Document\n",
    "f2[0]"
   ]
  },
  {
   "cell_type": "code",
   "execution_count": 46,
   "metadata": {},
   "outputs": [],
   "source": [
    "f2[0].description"
   ]
  },
  {
   "cell_type": "code",
   "execution_count": 47,
   "metadata": {},
   "outputs": [
    {
     "data": {
      "text/plain": [
       "'Roads'"
      ]
     },
     "execution_count": 47,
     "metadata": {},
     "output_type": "execute_result"
    }
   ],
   "source": [
    "f2[0].name"
   ]
  },
  {
   "cell_type": "code",
   "execution_count": 48,
   "metadata": {},
   "outputs": [
    {
     "name": "stderr",
     "output_type": "stream",
     "text": [
      "IOPub data rate exceeded.\n",
      "The Jupyter server will temporarily stop sending output\n",
      "to the client in order to avoid crashing it.\n",
      "To change this limit, set the config variable\n",
      "`--ServerApp.iopub_data_rate_limit`.\n",
      "\n",
      "Current values:\n",
      "ServerApp.iopub_data_rate_limit=1000000.0 (bytes/sec)\n",
      "ServerApp.rate_limit_window=3.0 (secs)\n",
      "\n"
     ]
    }
   ],
   "source": [
    "# Verify that we can print back out the KML object as a string\n",
    "print(k.to_string(prettyprint=True))"
   ]
  },
  {
   "cell_type": "code",
   "execution_count": 51,
   "metadata": {},
   "outputs": [
    {
     "name": "stderr",
     "output_type": "stream",
     "text": [
      "/opt/conda/lib/python3.9/site-packages/geopandas/geodataframe.py:422: RuntimeWarning: Sequential read of iterator was interrupted. Resetting iterator. This can negatively impact the performance.\n",
      "  for feature in features_lst:\n"
     ]
    }
   ],
   "source": [
    "import geopandas as gpd\n",
    "import fiona\n",
    "\n",
    "gpd.io.file.fiona.drvsupport.supported_drivers['KML'] = 'rw'\n",
    "df_kml = gpd.read_file('hotosm_hti_roads_lines.kml', driver='KML')"
   ]
  },
  {
   "cell_type": "code",
   "execution_count": 58,
   "metadata": {},
   "outputs": [
    {
     "data": {
      "text/html": [
       "<div>\n",
       "<style scoped>\n",
       "    .dataframe tbody tr th:only-of-type {\n",
       "        vertical-align: middle;\n",
       "    }\n",
       "\n",
       "    .dataframe tbody tr th {\n",
       "        vertical-align: top;\n",
       "    }\n",
       "\n",
       "    .dataframe thead th {\n",
       "        text-align: right;\n",
       "    }\n",
       "</style>\n",
       "<table border=\"1\" class=\"dataframe\">\n",
       "  <thead>\n",
       "    <tr style=\"text-align: right;\">\n",
       "      <th></th>\n",
       "      <th>Name</th>\n",
       "      <th>Description</th>\n",
       "      <th>geometry</th>\n",
       "    </tr>\n",
       "  </thead>\n",
       "  <tbody>\n",
       "    <tr>\n",
       "      <th>0</th>\n",
       "      <td>Boulevard Harry Truman</td>\n",
       "      <td></td>\n",
       "      <td>LINESTRING (-72.34976 18.53712, -72.34973 18.5...</td>\n",
       "    </tr>\n",
       "    <tr>\n",
       "      <th>1</th>\n",
       "      <td>Boulevard Harry Truman</td>\n",
       "      <td></td>\n",
       "      <td>LINESTRING (-72.34980 18.53691, -72.34976 18.5...</td>\n",
       "    </tr>\n",
       "    <tr>\n",
       "      <th>2</th>\n",
       "      <td>Route Nationale # 2</td>\n",
       "      <td></td>\n",
       "      <td>LINESTRING (-72.41565 18.53889, -72.41503 18.5...</td>\n",
       "    </tr>\n",
       "    <tr>\n",
       "      <th>3</th>\n",
       "      <td>Boulevard des Industries</td>\n",
       "      <td></td>\n",
       "      <td>LINESTRING (-72.30498 18.57513, -72.30525 18.5...</td>\n",
       "    </tr>\n",
       "    <tr>\n",
       "      <th>4</th>\n",
       "      <td>Boulevard des Industries</td>\n",
       "      <td></td>\n",
       "      <td>LINESTRING (-72.31261 18.58026, -72.31262 18.5...</td>\n",
       "    </tr>\n",
       "    <tr>\n",
       "      <th>5</th>\n",
       "      <td></td>\n",
       "      <td></td>\n",
       "      <td>LINESTRING (-72.11753 18.64945, -72.11733 18.6...</td>\n",
       "    </tr>\n",
       "    <tr>\n",
       "      <th>6</th>\n",
       "      <td>Rue Toussaint Louverture</td>\n",
       "      <td></td>\n",
       "      <td>LINESTRING (-72.09070 18.65815, -72.09076 18.6...</td>\n",
       "    </tr>\n",
       "    <tr>\n",
       "      <th>7</th>\n",
       "      <td>Rue des Miracles</td>\n",
       "      <td></td>\n",
       "      <td>LINESTRING (-72.34478 18.54902, -72.34463 18.5...</td>\n",
       "    </tr>\n",
       "    <tr>\n",
       "      <th>8</th>\n",
       "      <td>Rue du Magasin de l'Etat</td>\n",
       "      <td></td>\n",
       "      <td>LINESTRING (-72.34347 18.55451, -72.34359 18.5...</td>\n",
       "    </tr>\n",
       "    <tr>\n",
       "      <th>9</th>\n",
       "      <td>Rue du Centre</td>\n",
       "      <td></td>\n",
       "      <td>LINESTRING (-72.34402 18.54090, -72.34429 18.5...</td>\n",
       "    </tr>\n",
       "    <tr>\n",
       "      <th>10</th>\n",
       "      <td>Rue Carbone</td>\n",
       "      <td></td>\n",
       "      <td>LINESTRING (-72.34534 18.54116, -72.34461 18.5...</td>\n",
       "    </tr>\n",
       "    <tr>\n",
       "      <th>11</th>\n",
       "      <td>Rue Sainte Anne</td>\n",
       "      <td></td>\n",
       "      <td>LINESTRING (-72.34461 18.54102, -72.34450 18.5...</td>\n",
       "    </tr>\n",
       "    <tr>\n",
       "      <th>12</th>\n",
       "      <td>Rue d'Ennery</td>\n",
       "      <td></td>\n",
       "      <td>LINESTRING (-72.34495 18.54278, -72.34421 18.5...</td>\n",
       "    </tr>\n",
       "    <tr>\n",
       "      <th>13</th>\n",
       "      <td>Rue Saint-Honoré</td>\n",
       "      <td></td>\n",
       "      <td>LINESTRING (-72.34642 18.54224, -72.34512 18.5...</td>\n",
       "    </tr>\n",
       "    <tr>\n",
       "      <th>14</th>\n",
       "      <td>Rue Enterrement</td>\n",
       "      <td></td>\n",
       "      <td>LINESTRING (-72.34400 18.53577, -72.34370 18.5...</td>\n",
       "    </tr>\n",
       "    <tr>\n",
       "      <th>15</th>\n",
       "      <td>Rue du Centre</td>\n",
       "      <td></td>\n",
       "      <td>LINESTRING (-72.34365 18.54249, -72.34339 18.5...</td>\n",
       "    </tr>\n",
       "    <tr>\n",
       "      <th>16</th>\n",
       "      <td>Rue du Centre</td>\n",
       "      <td></td>\n",
       "      <td>LINESTRING (-72.34034 18.55588, -72.34050 18.5...</td>\n",
       "    </tr>\n",
       "    <tr>\n",
       "      <th>17</th>\n",
       "      <td>Rue Courbe</td>\n",
       "      <td></td>\n",
       "      <td>LINESTRING (-72.34319 18.55445, -72.34329 18.5...</td>\n",
       "    </tr>\n",
       "    <tr>\n",
       "      <th>18</th>\n",
       "      <td>Rue des Césars</td>\n",
       "      <td></td>\n",
       "      <td>LINESTRING (-72.34150 18.55174, -72.34267 18.5...</td>\n",
       "    </tr>\n",
       "    <tr>\n",
       "      <th>19</th>\n",
       "      <td>Rue Courbe</td>\n",
       "      <td></td>\n",
       "      <td>LINESTRING (-72.34330 18.55218, -72.34343 18.5...</td>\n",
       "    </tr>\n",
       "  </tbody>\n",
       "</table>\n",
       "</div>"
      ],
      "text/plain": [
       "                        Name Description  \\\n",
       "0     Boulevard Harry Truman               \n",
       "1     Boulevard Harry Truman               \n",
       "2        Route Nationale # 2               \n",
       "3   Boulevard des Industries               \n",
       "4   Boulevard des Industries               \n",
       "5                                          \n",
       "6   Rue Toussaint Louverture               \n",
       "7           Rue des Miracles               \n",
       "8   Rue du Magasin de l'Etat               \n",
       "9              Rue du Centre               \n",
       "10               Rue Carbone               \n",
       "11           Rue Sainte Anne               \n",
       "12              Rue d'Ennery               \n",
       "13          Rue Saint-Honoré               \n",
       "14           Rue Enterrement               \n",
       "15             Rue du Centre               \n",
       "16             Rue du Centre               \n",
       "17                Rue Courbe               \n",
       "18            Rue des Césars               \n",
       "19                Rue Courbe               \n",
       "\n",
       "                                             geometry  \n",
       "0   LINESTRING (-72.34976 18.53712, -72.34973 18.5...  \n",
       "1   LINESTRING (-72.34980 18.53691, -72.34976 18.5...  \n",
       "2   LINESTRING (-72.41565 18.53889, -72.41503 18.5...  \n",
       "3   LINESTRING (-72.30498 18.57513, -72.30525 18.5...  \n",
       "4   LINESTRING (-72.31261 18.58026, -72.31262 18.5...  \n",
       "5   LINESTRING (-72.11753 18.64945, -72.11733 18.6...  \n",
       "6   LINESTRING (-72.09070 18.65815, -72.09076 18.6...  \n",
       "7   LINESTRING (-72.34478 18.54902, -72.34463 18.5...  \n",
       "8   LINESTRING (-72.34347 18.55451, -72.34359 18.5...  \n",
       "9   LINESTRING (-72.34402 18.54090, -72.34429 18.5...  \n",
       "10  LINESTRING (-72.34534 18.54116, -72.34461 18.5...  \n",
       "11  LINESTRING (-72.34461 18.54102, -72.34450 18.5...  \n",
       "12  LINESTRING (-72.34495 18.54278, -72.34421 18.5...  \n",
       "13  LINESTRING (-72.34642 18.54224, -72.34512 18.5...  \n",
       "14  LINESTRING (-72.34400 18.53577, -72.34370 18.5...  \n",
       "15  LINESTRING (-72.34365 18.54249, -72.34339 18.5...  \n",
       "16  LINESTRING (-72.34034 18.55588, -72.34050 18.5...  \n",
       "17  LINESTRING (-72.34319 18.55445, -72.34329 18.5...  \n",
       "18  LINESTRING (-72.34150 18.55174, -72.34267 18.5...  \n",
       "19  LINESTRING (-72.34330 18.55218, -72.34343 18.5...  "
      ]
     },
     "execution_count": 58,
     "metadata": {},
     "output_type": "execute_result"
    }
   ],
   "source": [
    "df_kml.head(20)"
   ]
  },
  {
   "cell_type": "code",
   "execution_count": 52,
   "metadata": {},
   "outputs": [],
   "source": [
    "import osmnx as ox\n",
    "import networkx as nx\n",
    "import geopandas as gpd\n",
    "import matplotlib.pyplot as plt\n",
    "import pandas as pd\n",
    "from pyproj import CRS\n",
    "%matplotlib inline\n",
    "import seaborn as sns\n",
    "import folium"
   ]
  },
  {
   "cell_type": "code",
   "execution_count": 61,
   "metadata": {},
   "outputs": [],
   "source": [
    "def basic_eda(df, datafile_name=\"Datafile name\"):\n",
    "    print(f\"\\n**************************\",datafile_name,\"******************************\\n\")\n",
    "    print(f\"Performing basic EDA on {datafile_name} dataset\\n\")\n",
    "    print(f\"* The dataset has {df.shape[0]} rows and {df.shape[1]} columns.\")\n",
    "    print(\"\\n* First 10 rows of the dataset:\\n\")\n",
    "    display(df.head(10))\n"
   ]
  },
  {
   "cell_type": "code",
   "execution_count": 63,
   "metadata": {},
   "outputs": [
    {
     "name": "stdout",
     "output_type": "stream",
     "text": [
      "\n",
      "************************** Haiti Roads Data from HOTOSM KML Dataset ******************************\n",
      "\n",
      "Performing basic EDA on Haiti Roads Data from HOTOSM KML Dataset dataset\n",
      "\n",
      "* The dataset has 112875 rows and 3 columns.\n",
      "\n",
      "* First 10 rows of the dataset:\n",
      "\n"
     ]
    },
    {
     "data": {
      "text/html": [
       "<div>\n",
       "<style scoped>\n",
       "    .dataframe tbody tr th:only-of-type {\n",
       "        vertical-align: middle;\n",
       "    }\n",
       "\n",
       "    .dataframe tbody tr th {\n",
       "        vertical-align: top;\n",
       "    }\n",
       "\n",
       "    .dataframe thead th {\n",
       "        text-align: right;\n",
       "    }\n",
       "</style>\n",
       "<table border=\"1\" class=\"dataframe\">\n",
       "  <thead>\n",
       "    <tr style=\"text-align: right;\">\n",
       "      <th></th>\n",
       "      <th>Name</th>\n",
       "      <th>Description</th>\n",
       "      <th>geometry</th>\n",
       "    </tr>\n",
       "  </thead>\n",
       "  <tbody>\n",
       "    <tr>\n",
       "      <th>0</th>\n",
       "      <td>Boulevard Harry Truman</td>\n",
       "      <td></td>\n",
       "      <td>LINESTRING (-72.34976 18.53712, -72.34973 18.5...</td>\n",
       "    </tr>\n",
       "    <tr>\n",
       "      <th>1</th>\n",
       "      <td>Boulevard Harry Truman</td>\n",
       "      <td></td>\n",
       "      <td>LINESTRING (-72.34980 18.53691, -72.34976 18.5...</td>\n",
       "    </tr>\n",
       "    <tr>\n",
       "      <th>2</th>\n",
       "      <td>Route Nationale # 2</td>\n",
       "      <td></td>\n",
       "      <td>LINESTRING (-72.41565 18.53889, -72.41503 18.5...</td>\n",
       "    </tr>\n",
       "    <tr>\n",
       "      <th>3</th>\n",
       "      <td>Boulevard des Industries</td>\n",
       "      <td></td>\n",
       "      <td>LINESTRING (-72.30498 18.57513, -72.30525 18.5...</td>\n",
       "    </tr>\n",
       "    <tr>\n",
       "      <th>4</th>\n",
       "      <td>Boulevard des Industries</td>\n",
       "      <td></td>\n",
       "      <td>LINESTRING (-72.31261 18.58026, -72.31262 18.5...</td>\n",
       "    </tr>\n",
       "    <tr>\n",
       "      <th>5</th>\n",
       "      <td></td>\n",
       "      <td></td>\n",
       "      <td>LINESTRING (-72.11753 18.64945, -72.11733 18.6...</td>\n",
       "    </tr>\n",
       "    <tr>\n",
       "      <th>6</th>\n",
       "      <td>Rue Toussaint Louverture</td>\n",
       "      <td></td>\n",
       "      <td>LINESTRING (-72.09070 18.65815, -72.09076 18.6...</td>\n",
       "    </tr>\n",
       "    <tr>\n",
       "      <th>7</th>\n",
       "      <td>Rue des Miracles</td>\n",
       "      <td></td>\n",
       "      <td>LINESTRING (-72.34478 18.54902, -72.34463 18.5...</td>\n",
       "    </tr>\n",
       "    <tr>\n",
       "      <th>8</th>\n",
       "      <td>Rue du Magasin de l'Etat</td>\n",
       "      <td></td>\n",
       "      <td>LINESTRING (-72.34347 18.55451, -72.34359 18.5...</td>\n",
       "    </tr>\n",
       "    <tr>\n",
       "      <th>9</th>\n",
       "      <td>Rue du Centre</td>\n",
       "      <td></td>\n",
       "      <td>LINESTRING (-72.34402 18.54090, -72.34429 18.5...</td>\n",
       "    </tr>\n",
       "  </tbody>\n",
       "</table>\n",
       "</div>"
      ],
      "text/plain": [
       "                       Name Description  \\\n",
       "0    Boulevard Harry Truman               \n",
       "1    Boulevard Harry Truman               \n",
       "2       Route Nationale # 2               \n",
       "3  Boulevard des Industries               \n",
       "4  Boulevard des Industries               \n",
       "5                                         \n",
       "6  Rue Toussaint Louverture               \n",
       "7          Rue des Miracles               \n",
       "8  Rue du Magasin de l'Etat               \n",
       "9             Rue du Centre               \n",
       "\n",
       "                                            geometry  \n",
       "0  LINESTRING (-72.34976 18.53712, -72.34973 18.5...  \n",
       "1  LINESTRING (-72.34980 18.53691, -72.34976 18.5...  \n",
       "2  LINESTRING (-72.41565 18.53889, -72.41503 18.5...  \n",
       "3  LINESTRING (-72.30498 18.57513, -72.30525 18.5...  \n",
       "4  LINESTRING (-72.31261 18.58026, -72.31262 18.5...  \n",
       "5  LINESTRING (-72.11753 18.64945, -72.11733 18.6...  \n",
       "6  LINESTRING (-72.09070 18.65815, -72.09076 18.6...  \n",
       "7  LINESTRING (-72.34478 18.54902, -72.34463 18.5...  \n",
       "8  LINESTRING (-72.34347 18.55451, -72.34359 18.5...  \n",
       "9  LINESTRING (-72.34402 18.54090, -72.34429 18.5...  "
      ]
     },
     "metadata": {},
     "output_type": "display_data"
    }
   ],
   "source": [
    "basic_eda(df_kml, \"Haiti Roads Data from HOTOSM KML Dataset\")"
   ]
  },
  {
   "cell_type": "code",
   "execution_count": 64,
   "metadata": {},
   "outputs": [
    {
     "data": {
      "text/html": [
       "<div>\n",
       "<style scoped>\n",
       "    .dataframe tbody tr th:only-of-type {\n",
       "        vertical-align: middle;\n",
       "    }\n",
       "\n",
       "    .dataframe tbody tr th {\n",
       "        vertical-align: top;\n",
       "    }\n",
       "\n",
       "    .dataframe thead th {\n",
       "        text-align: right;\n",
       "    }\n",
       "</style>\n",
       "<table border=\"1\" class=\"dataframe\">\n",
       "  <thead>\n",
       "    <tr style=\"text-align: right;\">\n",
       "      <th></th>\n",
       "      <th>Percent</th>\n",
       "      <th>Missing Count</th>\n",
       "    </tr>\n",
       "  </thead>\n",
       "  <tbody>\n",
       "    <tr>\n",
       "      <th>Name</th>\n",
       "      <td>0.0</td>\n",
       "      <td>0</td>\n",
       "    </tr>\n",
       "    <tr>\n",
       "      <th>Description</th>\n",
       "      <td>0.0</td>\n",
       "      <td>0</td>\n",
       "    </tr>\n",
       "    <tr>\n",
       "      <th>geometry</th>\n",
       "      <td>0.0</td>\n",
       "      <td>0</td>\n",
       "    </tr>\n",
       "  </tbody>\n",
       "</table>\n",
       "</div>"
      ],
      "text/plain": [
       "             Percent  Missing Count\n",
       "Name             0.0              0\n",
       "Description      0.0              0\n",
       "geometry         0.0              0"
      ]
     },
     "execution_count": 64,
     "metadata": {},
     "output_type": "execute_result"
    }
   ],
   "source": [
    "percent = (df_kml.isnull().sum()/df_kml.isnull().count()*100).sort_values(ascending = False).round(2)\n",
    "sum_missing = df_kml.isna().sum().sort_values(ascending = False)\n",
    "missing_data  = pd.concat([percent, sum_missing], axis=1, keys=['Percent', \"Missing Count\"])\n",
    "missing_data.head(20)"
   ]
  },
  {
   "cell_type": "code",
   "execution_count": null,
   "metadata": {},
   "outputs": [],
   "source": []
  }
 ],
 "metadata": {
  "kernelspec": {
   "display_name": "Python (ox)",
   "language": "python",
   "name": "ox"
  },
  "language_info": {
   "codemirror_mode": {
    "name": "ipython",
    "version": 3
   },
   "file_extension": ".py",
   "mimetype": "text/x-python",
   "name": "python",
   "nbconvert_exporter": "python",
   "pygments_lexer": "ipython3",
   "version": "3.9.1"
  }
 },
 "nbformat": 4,
 "nbformat_minor": 4
}
