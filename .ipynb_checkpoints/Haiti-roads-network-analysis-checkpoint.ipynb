{
 "cells": [
  {
   "cell_type": "markdown",
   "metadata": {},
   "source": [
    "# Haiti Roads Data\n"
   ]
  },
  {
   "cell_type": "markdown",
   "metadata": {},
   "source": [
    "Let's start by importing the required modules"
   ]
  },
  {
   "cell_type": "code",
   "execution_count": 1,
   "metadata": {},
   "outputs": [],
   "source": [
    "import osmnx as ox\n",
    "import networkx as nx\n",
    "import geopandas as gpd\n",
    "import matplotlib.pyplot as plt\n",
    "import pandas as pd\n",
    "from pyproj import CRS\n",
    "%matplotlib inline\n",
    "import seaborn as sns\n",
    "import folium"
   ]
  },
  {
   "cell_type": "markdown",
   "metadata": {},
   "source": [
    "# Data Scource 1: OpenStreetMap (OSM)"
   ]
  },
  {
   "cell_type": "markdown",
   "metadata": {},
   "source": [
    "When fetching netowrk data from OpenStreetMap using OSMnx, it is possible to define the type of street network using the `network_type` parameter (options: `drive`, `walk` and `bike`).\n",
    "Let's download the OSM data from Haiti but this only the drivable network. Alternatively, you can also fetch the walkable network (this will take a bit longer time). "
   ]
  },
  {
   "cell_type": "markdown",
   "metadata": {},
   "source": [
    "Now we have retrieved only such streets where it is possible to drive with a car. Let's confirm\n",
    "this by taking a look at the attributes of the street network. Easiest way to do this is to convert the\n",
    "graph (nodes and edges) into GeoDataFrames.\n",
    "\n",
    "Converting graph into a GeoDataFrame can be done with function `graph_to_gdfs()` that we already used in previous tutorial. With parameters `nodes` and `edges`, it is possible to control whether to retrieve both nodes and edges from the graph. "
   ]
  },
  {
   "cell_type": "markdown",
   "metadata": {},
   "source": [
    "## Download OSM as Shapefile"
   ]
  },
  {
   "cell_type": "code",
   "execution_count": 2,
   "metadata": {},
   "outputs": [],
   "source": [
    "import osmnx as ox\n",
    "ox.config(use_cache=True, log_console=True)\n",
    "gdf = ox.geocode_to_gdf('Haiti')\n",
    "gdf.to_file('Haiti-OSM-shapefile')"
   ]
  },
  {
   "cell_type": "code",
   "execution_count": 4,
   "metadata": {},
   "outputs": [
    {
     "data": {
      "text/html": [
       "<div>\n",
       "<style scoped>\n",
       "    .dataframe tbody tr th:only-of-type {\n",
       "        vertical-align: middle;\n",
       "    }\n",
       "\n",
       "    .dataframe tbody tr th {\n",
       "        vertical-align: top;\n",
       "    }\n",
       "\n",
       "    .dataframe thead th {\n",
       "        text-align: right;\n",
       "    }\n",
       "</style>\n",
       "<table border=\"1\" class=\"dataframe\">\n",
       "  <thead>\n",
       "    <tr style=\"text-align: right;\">\n",
       "      <th></th>\n",
       "      <th>geometry</th>\n",
       "      <th>bbox_north</th>\n",
       "      <th>bbox_south</th>\n",
       "      <th>bbox_east</th>\n",
       "      <th>bbox_west</th>\n",
       "      <th>place_id</th>\n",
       "      <th>osm_type</th>\n",
       "      <th>osm_id</th>\n",
       "      <th>lat</th>\n",
       "      <th>lon</th>\n",
       "      <th>display_name</th>\n",
       "      <th>class</th>\n",
       "      <th>type</th>\n",
       "      <th>importance</th>\n",
       "    </tr>\n",
       "  </thead>\n",
       "  <tbody>\n",
       "    <tr>\n",
       "      <th>0</th>\n",
       "      <td>MULTIPOLYGON (((-75.23846 18.39870, -75.23370 ...</td>\n",
       "      <td>20.218137</td>\n",
       "      <td>17.909929</td>\n",
       "      <td>-71.621746</td>\n",
       "      <td>-75.238462</td>\n",
       "      <td>257948040</td>\n",
       "      <td>relation</td>\n",
       "      <td>307829</td>\n",
       "      <td>19.139995</td>\n",
       "      <td>-72.357097</td>\n",
       "      <td>Haiti</td>\n",
       "      <td>boundary</td>\n",
       "      <td>administrative</td>\n",
       "      <td>0.799459</td>\n",
       "    </tr>\n",
       "  </tbody>\n",
       "</table>\n",
       "</div>"
      ],
      "text/plain": [
       "                                            geometry  bbox_north  bbox_south  \\\n",
       "0  MULTIPOLYGON (((-75.23846 18.39870, -75.23370 ...   20.218137   17.909929   \n",
       "\n",
       "   bbox_east  bbox_west   place_id  osm_type  osm_id        lat        lon  \\\n",
       "0 -71.621746 -75.238462  257948040  relation  307829  19.139995 -72.357097   \n",
       "\n",
       "  display_name     class            type  importance  \n",
       "0        Haiti  boundary  administrative    0.799459  "
      ]
     },
     "execution_count": 4,
     "metadata": {},
     "output_type": "execute_result"
    }
   ],
   "source": [
    "gdf"
   ]
  },
  {
   "cell_type": "markdown",
   "metadata": {},
   "source": [
    "## Converting graph into a GeoDataFrame"
   ]
  },
  {
   "cell_type": "code",
   "execution_count": 4,
   "metadata": {},
   "outputs": [],
   "source": [
    "# Define place name - Haiti\n",
    "place_name = \"Haiti\"\n",
    "graph = ox.graph_from_place(place_name, network_type='drive')\n",
    "# Get the drivable (or walkable) network"
   ]
  },
  {
   "cell_type": "code",
   "execution_count": 28,
   "metadata": {},
   "outputs": [],
   "source": [
    "# Plot the graph:\n",
    "# fig, ax = ox.plot_graph(graph)"
   ]
  },
  {
   "cell_type": "code",
   "execution_count": 5,
   "metadata": {},
   "outputs": [],
   "source": [
    "# Retrieve only edges from the graph\n",
    "edges = ox.graph_to_gdfs(graph, nodes=False, edges=True)"
   ]
  },
  {
   "cell_type": "code",
   "execution_count": 6,
   "metadata": {},
   "outputs": [
    {
     "data": {
      "text/plain": [
       "Index(['osmid', 'name', 'highway', 'oneway', 'length', 'geometry', 'ref',\n",
       "       'bridge', 'maxspeed', 'tunnel', 'lanes', 'junction', 'access', 'width',\n",
       "       'service', 'est_width'],\n",
       "      dtype='object')"
      ]
     },
     "execution_count": 6,
     "metadata": {},
     "output_type": "execute_result"
    }
   ],
   "source": [
    "# Check columns\n",
    "edges.columns"
   ]
  },
  {
   "cell_type": "code",
   "execution_count": 7,
   "metadata": {},
   "outputs": [
    {
     "data": {
      "text/plain": [
       "<Geographic 2D CRS: EPSG:4326>\n",
       "Name: WGS 84\n",
       "Axis Info [ellipsoidal]:\n",
       "- Lat[north]: Geodetic latitude (degree)\n",
       "- Lon[east]: Geodetic longitude (degree)\n",
       "Area of Use:\n",
       "- name: World\n",
       "- bounds: (-180.0, -90.0, 180.0, 90.0)\n",
       "Datum: World Geodetic System 1984\n",
       "- Ellipsoid: WGS 84\n",
       "- Prime Meridian: Greenwich"
      ]
     },
     "execution_count": 7,
     "metadata": {},
     "output_type": "execute_result"
    }
   ],
   "source": [
    "# Check crs\n",
    "edges.crs"
   ]
  },
  {
   "cell_type": "markdown",
   "metadata": {},
   "source": [
    "Note that the CRS of the GeoDataFrame is be WGS84 (epsg: 4326)."
   ]
  },
  {
   "cell_type": "code",
   "execution_count": 8,
   "metadata": {},
   "outputs": [
    {
     "data": {
      "text/html": [
       "<div>\n",
       "<style scoped>\n",
       "    .dataframe tbody tr th:only-of-type {\n",
       "        vertical-align: middle;\n",
       "    }\n",
       "\n",
       "    .dataframe tbody tr th {\n",
       "        vertical-align: top;\n",
       "    }\n",
       "\n",
       "    .dataframe thead th {\n",
       "        text-align: right;\n",
       "    }\n",
       "</style>\n",
       "<table border=\"1\" class=\"dataframe\">\n",
       "  <thead>\n",
       "    <tr style=\"text-align: right;\">\n",
       "      <th></th>\n",
       "      <th></th>\n",
       "      <th></th>\n",
       "      <th>osmid</th>\n",
       "      <th>name</th>\n",
       "      <th>highway</th>\n",
       "      <th>oneway</th>\n",
       "      <th>length</th>\n",
       "      <th>geometry</th>\n",
       "      <th>ref</th>\n",
       "      <th>bridge</th>\n",
       "      <th>maxspeed</th>\n",
       "      <th>tunnel</th>\n",
       "      <th>lanes</th>\n",
       "      <th>junction</th>\n",
       "      <th>access</th>\n",
       "      <th>width</th>\n",
       "      <th>service</th>\n",
       "      <th>est_width</th>\n",
       "    </tr>\n",
       "    <tr>\n",
       "      <th>u</th>\n",
       "      <th>v</th>\n",
       "      <th>key</th>\n",
       "      <th></th>\n",
       "      <th></th>\n",
       "      <th></th>\n",
       "      <th></th>\n",
       "      <th></th>\n",
       "      <th></th>\n",
       "      <th></th>\n",
       "      <th></th>\n",
       "      <th></th>\n",
       "      <th></th>\n",
       "      <th></th>\n",
       "      <th></th>\n",
       "      <th></th>\n",
       "      <th></th>\n",
       "      <th></th>\n",
       "      <th></th>\n",
       "    </tr>\n",
       "  </thead>\n",
       "  <tbody>\n",
       "    <tr>\n",
       "      <th rowspan=\"3\" valign=\"top\">330451756</th>\n",
       "      <th>4427959448</th>\n",
       "      <th>0</th>\n",
       "      <td>49224232</td>\n",
       "      <td>PS Hotel</td>\n",
       "      <td>unclassified</td>\n",
       "      <td>False</td>\n",
       "      <td>234.299</td>\n",
       "      <td>LINESTRING (-73.91427 18.08219, -73.91437 18.0...</td>\n",
       "      <td>NaN</td>\n",
       "      <td>NaN</td>\n",
       "      <td>NaN</td>\n",
       "      <td>NaN</td>\n",
       "      <td>NaN</td>\n",
       "      <td>NaN</td>\n",
       "      <td>NaN</td>\n",
       "      <td>NaN</td>\n",
       "      <td>NaN</td>\n",
       "      <td>NaN</td>\n",
       "    </tr>\n",
       "    <tr>\n",
       "      <th>4433922263</th>\n",
       "      <th>0</th>\n",
       "      <td>446049875</td>\n",
       "      <td>NaN</td>\n",
       "      <td>tertiary</td>\n",
       "      <td>False</td>\n",
       "      <td>796.887</td>\n",
       "      <td>LINESTRING (-73.91427 18.08219, -73.91392 18.0...</td>\n",
       "      <td>NaN</td>\n",
       "      <td>NaN</td>\n",
       "      <td>NaN</td>\n",
       "      <td>NaN</td>\n",
       "      <td>NaN</td>\n",
       "      <td>NaN</td>\n",
       "      <td>NaN</td>\n",
       "      <td>NaN</td>\n",
       "      <td>NaN</td>\n",
       "      <td>NaN</td>\n",
       "    </tr>\n",
       "    <tr>\n",
       "      <th>614473094</th>\n",
       "      <th>0</th>\n",
       "      <td>[446049875, 30018812]</td>\n",
       "      <td>Rue Capois</td>\n",
       "      <td>tertiary</td>\n",
       "      <td>False</td>\n",
       "      <td>399.810</td>\n",
       "      <td>LINESTRING (-73.91427 18.08219, -73.91436 18.0...</td>\n",
       "      <td>NaN</td>\n",
       "      <td>NaN</td>\n",
       "      <td>NaN</td>\n",
       "      <td>NaN</td>\n",
       "      <td>NaN</td>\n",
       "      <td>NaN</td>\n",
       "      <td>NaN</td>\n",
       "      <td>NaN</td>\n",
       "      <td>NaN</td>\n",
       "      <td>NaN</td>\n",
       "    </tr>\n",
       "    <tr>\n",
       "      <th rowspan=\"2\" valign=\"top\">330451881</th>\n",
       "      <th>330462701</th>\n",
       "      <th>0</th>\n",
       "      <td>48454003</td>\n",
       "      <td>NaN</td>\n",
       "      <td>tertiary</td>\n",
       "      <td>False</td>\n",
       "      <td>85.521</td>\n",
       "      <td>LINESTRING (-73.88924 18.19991, -73.88843 18.1...</td>\n",
       "      <td>NaN</td>\n",
       "      <td>NaN</td>\n",
       "      <td>NaN</td>\n",
       "      <td>NaN</td>\n",
       "      <td>NaN</td>\n",
       "      <td>NaN</td>\n",
       "      <td>NaN</td>\n",
       "      <td>NaN</td>\n",
       "      <td>NaN</td>\n",
       "      <td>NaN</td>\n",
       "    </tr>\n",
       "    <tr>\n",
       "      <th>1045134597</th>\n",
       "      <th>0</th>\n",
       "      <td>48454003</td>\n",
       "      <td>NaN</td>\n",
       "      <td>tertiary</td>\n",
       "      <td>False</td>\n",
       "      <td>65.781</td>\n",
       "      <td>LINESTRING (-73.88924 18.19991, -73.88986 18.1...</td>\n",
       "      <td>NaN</td>\n",
       "      <td>NaN</td>\n",
       "      <td>NaN</td>\n",
       "      <td>NaN</td>\n",
       "      <td>NaN</td>\n",
       "      <td>NaN</td>\n",
       "      <td>NaN</td>\n",
       "      <td>NaN</td>\n",
       "      <td>NaN</td>\n",
       "      <td>NaN</td>\n",
       "    </tr>\n",
       "  </tbody>\n",
       "</table>\n",
       "</div>"
      ],
      "text/plain": [
       "                                          osmid        name       highway  \\\n",
       "u         v          key                                                    \n",
       "330451756 4427959448 0                 49224232    PS Hotel  unclassified   \n",
       "          4433922263 0                446049875         NaN      tertiary   \n",
       "          614473094  0    [446049875, 30018812]  Rue Capois      tertiary   \n",
       "330451881 330462701  0                 48454003         NaN      tertiary   \n",
       "          1045134597 0                 48454003         NaN      tertiary   \n",
       "\n",
       "                          oneway   length  \\\n",
       "u         v          key                    \n",
       "330451756 4427959448 0     False  234.299   \n",
       "          4433922263 0     False  796.887   \n",
       "          614473094  0     False  399.810   \n",
       "330451881 330462701  0     False   85.521   \n",
       "          1045134597 0     False   65.781   \n",
       "\n",
       "                                                                   geometry  \\\n",
       "u         v          key                                                      \n",
       "330451756 4427959448 0    LINESTRING (-73.91427 18.08219, -73.91437 18.0...   \n",
       "          4433922263 0    LINESTRING (-73.91427 18.08219, -73.91392 18.0...   \n",
       "          614473094  0    LINESTRING (-73.91427 18.08219, -73.91436 18.0...   \n",
       "330451881 330462701  0    LINESTRING (-73.88924 18.19991, -73.88843 18.1...   \n",
       "          1045134597 0    LINESTRING (-73.88924 18.19991, -73.88986 18.1...   \n",
       "\n",
       "                          ref bridge maxspeed tunnel lanes junction access  \\\n",
       "u         v          key                                                     \n",
       "330451756 4427959448 0    NaN    NaN      NaN    NaN   NaN      NaN    NaN   \n",
       "          4433922263 0    NaN    NaN      NaN    NaN   NaN      NaN    NaN   \n",
       "          614473094  0    NaN    NaN      NaN    NaN   NaN      NaN    NaN   \n",
       "330451881 330462701  0    NaN    NaN      NaN    NaN   NaN      NaN    NaN   \n",
       "          1045134597 0    NaN    NaN      NaN    NaN   NaN      NaN    NaN   \n",
       "\n",
       "                         width service est_width  \n",
       "u         v          key                          \n",
       "330451756 4427959448 0     NaN     NaN       NaN  \n",
       "          4433922263 0     NaN     NaN       NaN  \n",
       "          614473094  0     NaN     NaN       NaN  \n",
       "330451881 330462701  0     NaN     NaN       NaN  \n",
       "          1045134597 0     NaN     NaN       NaN  "
      ]
     },
     "execution_count": 8,
     "metadata": {},
     "output_type": "execute_result"
    }
   ],
   "source": [
    "edges.head()"
   ]
  },
  {
   "cell_type": "markdown",
   "metadata": {},
   "source": [
    "Okey, so we have quite many columns in our GeoDataFrame. Most of the columns are fairly self-explanatory but the following table describes all of them.\n",
    "Most of the attributes come directly from the OpenStreetMap, however, columns `u` and `v` are Networkx specific ids. You can click on the links to get more information about each attribute:\n",
    "\n",
    "\n",
    "| Column                                                     | Description                 | Data type         |\n",
    "|------------------------------------------------------------|-----------------------------|-------------------|\n",
    "| [bridge](http://wiki.openstreetmap.org/wiki/Key:bridge)    | Bridge feature              | boolean           |\n",
    "| geometry                                                   | Geometry of the feature     | Shapely.geometry  |\n",
    "| [highway](http://wiki.openstreetmap.org/wiki/Key:highway)  | Tag for roads (road type)   | str / list        |\n",
    "| [lanes](http://wiki.openstreetmap.org/wiki/Key:lanes)      | Number of lanes             | int (or nan)      |\n",
    "| [lenght](http://wiki.openstreetmap.org/wiki/Key:length)    | Length of feature (meters)  | float             |\n",
    "| [maxspeed](http://wiki.openstreetmap.org/wiki/Key:maxspeed)| maximum legal speed limit   | int /list         |\n",
    "| [name](http://wiki.openstreetmap.org/wiki/Key:name)        | Name of the (street) element| str (or nan)      |\n",
    "| [oneway](http://wiki.openstreetmap.org/wiki/Key:oneway)    | One way road                | boolean           |\n",
    "| [osmid](http://wiki.openstreetmap.org/wiki/Node)           | Unique ids for the element  | list              |\n",
    "| [u](http://ow.ly/bV8n30h7Ufm)                              | The first node of edge      | int               |\n",
    "| [v](http://ow.ly/bV8n30h7Ufm)                              | The last node of edge       | int               |\n"
   ]
  },
  {
   "cell_type": "markdown",
   "metadata": {},
   "source": [
    "# Perform Data Explotaroy Analysis"
   ]
  },
  {
   "cell_type": "code",
   "execution_count": 9,
   "metadata": {},
   "outputs": [],
   "source": [
    "def basic_eda(df, datafile_name=\"Datafile name\"):\n",
    "    print(f\"\\n**************************\",datafile_name,\"******************************\\n\")\n",
    "    print(f\"Performing basic EDA on {datafile_name} dataset\\n\")\n",
    "    print(f\"* The dataset has {df.shape[0]} rows and {df.shape[1]} columns.\")\n",
    "    print(\"\\n* First 10 rows of the dataset:\\n\")\n",
    "    display(df.head(10))\n",
    "    print(\"\\n* Describing the dataset statistics:\\n\", )\n",
    "    display(df.describe())\n",
    "    print(\"\\n* Fetching info of the dataset: \\n\")\n",
    "    display(df.info())\n",
    "#     print(\"\\n* Check data distribution: \")\n",
    "#     df.hist(figsize=(20,30))"
   ]
  },
  {
   "cell_type": "code",
   "execution_count": 10,
   "metadata": {},
   "outputs": [
    {
     "name": "stdout",
     "output_type": "stream",
     "text": [
      "\n",
      "************************** Haiti Roads Data from OSM ******************************\n",
      "\n",
      "Performing basic EDA on Haiti Roads Data from OSM dataset\n",
      "\n",
      "* The dataset has 152587 rows and 16 columns.\n",
      "\n",
      "* First 10 rows of the dataset:\n",
      "\n"
     ]
    },
    {
     "data": {
      "text/html": [
       "<div>\n",
       "<style scoped>\n",
       "    .dataframe tbody tr th:only-of-type {\n",
       "        vertical-align: middle;\n",
       "    }\n",
       "\n",
       "    .dataframe tbody tr th {\n",
       "        vertical-align: top;\n",
       "    }\n",
       "\n",
       "    .dataframe thead th {\n",
       "        text-align: right;\n",
       "    }\n",
       "</style>\n",
       "<table border=\"1\" class=\"dataframe\">\n",
       "  <thead>\n",
       "    <tr style=\"text-align: right;\">\n",
       "      <th></th>\n",
       "      <th></th>\n",
       "      <th></th>\n",
       "      <th>osmid</th>\n",
       "      <th>name</th>\n",
       "      <th>highway</th>\n",
       "      <th>oneway</th>\n",
       "      <th>length</th>\n",
       "      <th>geometry</th>\n",
       "      <th>ref</th>\n",
       "      <th>bridge</th>\n",
       "      <th>maxspeed</th>\n",
       "      <th>tunnel</th>\n",
       "      <th>lanes</th>\n",
       "      <th>junction</th>\n",
       "      <th>access</th>\n",
       "      <th>width</th>\n",
       "      <th>service</th>\n",
       "      <th>est_width</th>\n",
       "    </tr>\n",
       "    <tr>\n",
       "      <th>u</th>\n",
       "      <th>v</th>\n",
       "      <th>key</th>\n",
       "      <th></th>\n",
       "      <th></th>\n",
       "      <th></th>\n",
       "      <th></th>\n",
       "      <th></th>\n",
       "      <th></th>\n",
       "      <th></th>\n",
       "      <th></th>\n",
       "      <th></th>\n",
       "      <th></th>\n",
       "      <th></th>\n",
       "      <th></th>\n",
       "      <th></th>\n",
       "      <th></th>\n",
       "      <th></th>\n",
       "      <th></th>\n",
       "    </tr>\n",
       "  </thead>\n",
       "  <tbody>\n",
       "    <tr>\n",
       "      <th rowspan=\"3\" valign=\"top\">330451756</th>\n",
       "      <th>4427959448</th>\n",
       "      <th>0</th>\n",
       "      <td>49224232</td>\n",
       "      <td>PS Hotel</td>\n",
       "      <td>unclassified</td>\n",
       "      <td>False</td>\n",
       "      <td>234.299</td>\n",
       "      <td>LINESTRING (-73.91427 18.08219, -73.91437 18.0...</td>\n",
       "      <td>NaN</td>\n",
       "      <td>NaN</td>\n",
       "      <td>NaN</td>\n",
       "      <td>NaN</td>\n",
       "      <td>NaN</td>\n",
       "      <td>NaN</td>\n",
       "      <td>NaN</td>\n",
       "      <td>NaN</td>\n",
       "      <td>NaN</td>\n",
       "      <td>NaN</td>\n",
       "    </tr>\n",
       "    <tr>\n",
       "      <th>4433922263</th>\n",
       "      <th>0</th>\n",
       "      <td>446049875</td>\n",
       "      <td>NaN</td>\n",
       "      <td>tertiary</td>\n",
       "      <td>False</td>\n",
       "      <td>796.887</td>\n",
       "      <td>LINESTRING (-73.91427 18.08219, -73.91392 18.0...</td>\n",
       "      <td>NaN</td>\n",
       "      <td>NaN</td>\n",
       "      <td>NaN</td>\n",
       "      <td>NaN</td>\n",
       "      <td>NaN</td>\n",
       "      <td>NaN</td>\n",
       "      <td>NaN</td>\n",
       "      <td>NaN</td>\n",
       "      <td>NaN</td>\n",
       "      <td>NaN</td>\n",
       "    </tr>\n",
       "    <tr>\n",
       "      <th>614473094</th>\n",
       "      <th>0</th>\n",
       "      <td>[446049875, 30018812]</td>\n",
       "      <td>Rue Capois</td>\n",
       "      <td>tertiary</td>\n",
       "      <td>False</td>\n",
       "      <td>399.810</td>\n",
       "      <td>LINESTRING (-73.91427 18.08219, -73.91436 18.0...</td>\n",
       "      <td>NaN</td>\n",
       "      <td>NaN</td>\n",
       "      <td>NaN</td>\n",
       "      <td>NaN</td>\n",
       "      <td>NaN</td>\n",
       "      <td>NaN</td>\n",
       "      <td>NaN</td>\n",
       "      <td>NaN</td>\n",
       "      <td>NaN</td>\n",
       "      <td>NaN</td>\n",
       "    </tr>\n",
       "    <tr>\n",
       "      <th rowspan=\"3\" valign=\"top\">330451881</th>\n",
       "      <th>330462701</th>\n",
       "      <th>0</th>\n",
       "      <td>48454003</td>\n",
       "      <td>NaN</td>\n",
       "      <td>tertiary</td>\n",
       "      <td>False</td>\n",
       "      <td>85.521</td>\n",
       "      <td>LINESTRING (-73.88924 18.19991, -73.88843 18.1...</td>\n",
       "      <td>NaN</td>\n",
       "      <td>NaN</td>\n",
       "      <td>NaN</td>\n",
       "      <td>NaN</td>\n",
       "      <td>NaN</td>\n",
       "      <td>NaN</td>\n",
       "      <td>NaN</td>\n",
       "      <td>NaN</td>\n",
       "      <td>NaN</td>\n",
       "      <td>NaN</td>\n",
       "    </tr>\n",
       "    <tr>\n",
       "      <th>1045134597</th>\n",
       "      <th>0</th>\n",
       "      <td>48454003</td>\n",
       "      <td>NaN</td>\n",
       "      <td>tertiary</td>\n",
       "      <td>False</td>\n",
       "      <td>65.781</td>\n",
       "      <td>LINESTRING (-73.88924 18.19991, -73.88986 18.1...</td>\n",
       "      <td>NaN</td>\n",
       "      <td>NaN</td>\n",
       "      <td>NaN</td>\n",
       "      <td>NaN</td>\n",
       "      <td>NaN</td>\n",
       "      <td>NaN</td>\n",
       "      <td>NaN</td>\n",
       "      <td>NaN</td>\n",
       "      <td>NaN</td>\n",
       "      <td>NaN</td>\n",
       "    </tr>\n",
       "    <tr>\n",
       "      <th>1119101817</th>\n",
       "      <th>0</th>\n",
       "      <td>90150220</td>\n",
       "      <td>NaN</td>\n",
       "      <td>residential</td>\n",
       "      <td>False</td>\n",
       "      <td>128.064</td>\n",
       "      <td>LINESTRING (-73.88924 18.19991, -73.88948 18.2...</td>\n",
       "      <td>NaN</td>\n",
       "      <td>NaN</td>\n",
       "      <td>NaN</td>\n",
       "      <td>NaN</td>\n",
       "      <td>NaN</td>\n",
       "      <td>NaN</td>\n",
       "      <td>NaN</td>\n",
       "      <td>NaN</td>\n",
       "      <td>NaN</td>\n",
       "      <td>NaN</td>\n",
       "    </tr>\n",
       "    <tr>\n",
       "      <th rowspan=\"3\" valign=\"top\">330452405</th>\n",
       "      <th>4427509989</th>\n",
       "      <th>0</th>\n",
       "      <td>30018737</td>\n",
       "      <td>NaN</td>\n",
       "      <td>tertiary</td>\n",
       "      <td>False</td>\n",
       "      <td>884.614</td>\n",
       "      <td>LINESTRING (-73.90388 18.06089, -73.90382 18.0...</td>\n",
       "      <td>NaN</td>\n",
       "      <td>NaN</td>\n",
       "      <td>NaN</td>\n",
       "      <td>NaN</td>\n",
       "      <td>NaN</td>\n",
       "      <td>NaN</td>\n",
       "      <td>NaN</td>\n",
       "      <td>NaN</td>\n",
       "      <td>NaN</td>\n",
       "      <td>NaN</td>\n",
       "    </tr>\n",
       "    <tr>\n",
       "      <th>331002056</th>\n",
       "      <th>0</th>\n",
       "      <td>[30018737, 446049869, 446049886]</td>\n",
       "      <td>NaN</td>\n",
       "      <td>tertiary</td>\n",
       "      <td>False</td>\n",
       "      <td>1073.377</td>\n",
       "      <td>LINESTRING (-73.90388 18.06089, -73.90407 18.0...</td>\n",
       "      <td>NaN</td>\n",
       "      <td>NaN</td>\n",
       "      <td>NaN</td>\n",
       "      <td>NaN</td>\n",
       "      <td>NaN</td>\n",
       "      <td>NaN</td>\n",
       "      <td>NaN</td>\n",
       "      <td>NaN</td>\n",
       "      <td>NaN</td>\n",
       "      <td>NaN</td>\n",
       "    </tr>\n",
       "    <tr>\n",
       "      <th>4427493171</th>\n",
       "      <th>0</th>\n",
       "      <td>[445297829, 445297830]</td>\n",
       "      <td>NaN</td>\n",
       "      <td>unclassified</td>\n",
       "      <td>False</td>\n",
       "      <td>1360.288</td>\n",
       "      <td>LINESTRING (-73.90388 18.06089, -73.90384 18.0...</td>\n",
       "      <td>NaN</td>\n",
       "      <td>NaN</td>\n",
       "      <td>NaN</td>\n",
       "      <td>NaN</td>\n",
       "      <td>NaN</td>\n",
       "      <td>NaN</td>\n",
       "      <td>NaN</td>\n",
       "      <td>NaN</td>\n",
       "      <td>NaN</td>\n",
       "      <td>NaN</td>\n",
       "    </tr>\n",
       "    <tr>\n",
       "      <th>330452617</th>\n",
       "      <th>1028707878</th>\n",
       "      <th>0</th>\n",
       "      <td>[88580529, 30018782]</td>\n",
       "      <td>NaN</td>\n",
       "      <td>unclassified</td>\n",
       "      <td>False</td>\n",
       "      <td>870.946</td>\n",
       "      <td>LINESTRING (-73.92935 18.10103, -73.92940 18.1...</td>\n",
       "      <td>NaN</td>\n",
       "      <td>NaN</td>\n",
       "      <td>NaN</td>\n",
       "      <td>NaN</td>\n",
       "      <td>NaN</td>\n",
       "      <td>NaN</td>\n",
       "      <td>NaN</td>\n",
       "      <td>NaN</td>\n",
       "      <td>NaN</td>\n",
       "      <td>NaN</td>\n",
       "    </tr>\n",
       "  </tbody>\n",
       "</table>\n",
       "</div>"
      ],
      "text/plain": [
       "                                                     osmid        name  \\\n",
       "u         v          key                                                 \n",
       "330451756 4427959448 0                            49224232    PS Hotel   \n",
       "          4433922263 0                           446049875         NaN   \n",
       "          614473094  0               [446049875, 30018812]  Rue Capois   \n",
       "330451881 330462701  0                            48454003         NaN   \n",
       "          1045134597 0                            48454003         NaN   \n",
       "          1119101817 0                            90150220         NaN   \n",
       "330452405 4427509989 0                            30018737         NaN   \n",
       "          331002056  0    [30018737, 446049869, 446049886]         NaN   \n",
       "          4427493171 0              [445297829, 445297830]         NaN   \n",
       "330452617 1028707878 0                [88580529, 30018782]         NaN   \n",
       "\n",
       "                               highway  oneway    length  \\\n",
       "u         v          key                                   \n",
       "330451756 4427959448 0    unclassified   False   234.299   \n",
       "          4433922263 0        tertiary   False   796.887   \n",
       "          614473094  0        tertiary   False   399.810   \n",
       "330451881 330462701  0        tertiary   False    85.521   \n",
       "          1045134597 0        tertiary   False    65.781   \n",
       "          1119101817 0     residential   False   128.064   \n",
       "330452405 4427509989 0        tertiary   False   884.614   \n",
       "          331002056  0        tertiary   False  1073.377   \n",
       "          4427493171 0    unclassified   False  1360.288   \n",
       "330452617 1028707878 0    unclassified   False   870.946   \n",
       "\n",
       "                                                                   geometry  \\\n",
       "u         v          key                                                      \n",
       "330451756 4427959448 0    LINESTRING (-73.91427 18.08219, -73.91437 18.0...   \n",
       "          4433922263 0    LINESTRING (-73.91427 18.08219, -73.91392 18.0...   \n",
       "          614473094  0    LINESTRING (-73.91427 18.08219, -73.91436 18.0...   \n",
       "330451881 330462701  0    LINESTRING (-73.88924 18.19991, -73.88843 18.1...   \n",
       "          1045134597 0    LINESTRING (-73.88924 18.19991, -73.88986 18.1...   \n",
       "          1119101817 0    LINESTRING (-73.88924 18.19991, -73.88948 18.2...   \n",
       "330452405 4427509989 0    LINESTRING (-73.90388 18.06089, -73.90382 18.0...   \n",
       "          331002056  0    LINESTRING (-73.90388 18.06089, -73.90407 18.0...   \n",
       "          4427493171 0    LINESTRING (-73.90388 18.06089, -73.90384 18.0...   \n",
       "330452617 1028707878 0    LINESTRING (-73.92935 18.10103, -73.92940 18.1...   \n",
       "\n",
       "                          ref bridge maxspeed tunnel lanes junction access  \\\n",
       "u         v          key                                                     \n",
       "330451756 4427959448 0    NaN    NaN      NaN    NaN   NaN      NaN    NaN   \n",
       "          4433922263 0    NaN    NaN      NaN    NaN   NaN      NaN    NaN   \n",
       "          614473094  0    NaN    NaN      NaN    NaN   NaN      NaN    NaN   \n",
       "330451881 330462701  0    NaN    NaN      NaN    NaN   NaN      NaN    NaN   \n",
       "          1045134597 0    NaN    NaN      NaN    NaN   NaN      NaN    NaN   \n",
       "          1119101817 0    NaN    NaN      NaN    NaN   NaN      NaN    NaN   \n",
       "330452405 4427509989 0    NaN    NaN      NaN    NaN   NaN      NaN    NaN   \n",
       "          331002056  0    NaN    NaN      NaN    NaN   NaN      NaN    NaN   \n",
       "          4427493171 0    NaN    NaN      NaN    NaN   NaN      NaN    NaN   \n",
       "330452617 1028707878 0    NaN    NaN      NaN    NaN   NaN      NaN    NaN   \n",
       "\n",
       "                         width service est_width  \n",
       "u         v          key                          \n",
       "330451756 4427959448 0     NaN     NaN       NaN  \n",
       "          4433922263 0     NaN     NaN       NaN  \n",
       "          614473094  0     NaN     NaN       NaN  \n",
       "330451881 330462701  0     NaN     NaN       NaN  \n",
       "          1045134597 0     NaN     NaN       NaN  \n",
       "          1119101817 0     NaN     NaN       NaN  \n",
       "330452405 4427509989 0     NaN     NaN       NaN  \n",
       "          331002056  0     NaN     NaN       NaN  \n",
       "          4427493171 0     NaN     NaN       NaN  \n",
       "330452617 1028707878 0     NaN     NaN       NaN  "
      ]
     },
     "metadata": {},
     "output_type": "display_data"
    },
    {
     "name": "stdout",
     "output_type": "stream",
     "text": [
      "\n",
      "* Describing the dataset statistics:\n",
      "\n"
     ]
    },
    {
     "data": {
      "text/html": [
       "<div>\n",
       "<style scoped>\n",
       "    .dataframe tbody tr th:only-of-type {\n",
       "        vertical-align: middle;\n",
       "    }\n",
       "\n",
       "    .dataframe tbody tr th {\n",
       "        vertical-align: top;\n",
       "    }\n",
       "\n",
       "    .dataframe thead th {\n",
       "        text-align: right;\n",
       "    }\n",
       "</style>\n",
       "<table border=\"1\" class=\"dataframe\">\n",
       "  <thead>\n",
       "    <tr style=\"text-align: right;\">\n",
       "      <th></th>\n",
       "      <th>length</th>\n",
       "    </tr>\n",
       "  </thead>\n",
       "  <tbody>\n",
       "    <tr>\n",
       "      <th>count</th>\n",
       "      <td>152587.000000</td>\n",
       "    </tr>\n",
       "    <tr>\n",
       "      <th>mean</th>\n",
       "      <td>269.573914</td>\n",
       "    </tr>\n",
       "    <tr>\n",
       "      <th>std</th>\n",
       "      <td>680.382941</td>\n",
       "    </tr>\n",
       "    <tr>\n",
       "      <th>min</th>\n",
       "      <td>0.184000</td>\n",
       "    </tr>\n",
       "    <tr>\n",
       "      <th>25%</th>\n",
       "      <td>53.813000</td>\n",
       "    </tr>\n",
       "    <tr>\n",
       "      <th>50%</th>\n",
       "      <td>103.627000</td>\n",
       "    </tr>\n",
       "    <tr>\n",
       "      <th>75%</th>\n",
       "      <td>218.378000</td>\n",
       "    </tr>\n",
       "    <tr>\n",
       "      <th>max</th>\n",
       "      <td>20938.837000</td>\n",
       "    </tr>\n",
       "  </tbody>\n",
       "</table>\n",
       "</div>"
      ],
      "text/plain": [
       "              length\n",
       "count  152587.000000\n",
       "mean      269.573914\n",
       "std       680.382941\n",
       "min         0.184000\n",
       "25%        53.813000\n",
       "50%       103.627000\n",
       "75%       218.378000\n",
       "max     20938.837000"
      ]
     },
     "metadata": {},
     "output_type": "display_data"
    },
    {
     "name": "stdout",
     "output_type": "stream",
     "text": [
      "\n",
      "* Fetching info of the dataset: \n",
      "\n",
      "<class 'pandas.core.frame.DataFrame'>\n",
      "MultiIndex: 152587 entries, (330451756, 4427959448, 0) to (6772903293, 616036311, 0)\n",
      "Data columns (total 16 columns):\n",
      " #   Column     Non-Null Count   Dtype   \n",
      "---  ------     --------------   -----   \n",
      " 0   osmid      152587 non-null  object  \n",
      " 1   name       60280 non-null   object  \n",
      " 2   highway    152587 non-null  object  \n",
      " 3   oneway     152587 non-null  bool    \n",
      " 4   length     152587 non-null  float64 \n",
      " 5   geometry   152587 non-null  geometry\n",
      " 6   ref        10915 non-null   object  \n",
      " 7   bridge     2354 non-null    object  \n",
      " 8   maxspeed   1073 non-null    object  \n",
      " 9   tunnel     18 non-null      object  \n",
      " 10  lanes      4787 non-null    object  \n",
      " 11  junction   182 non-null     object  \n",
      " 12  access     429 non-null     object  \n",
      " 13  width      54 non-null      object  \n",
      " 14  service    2 non-null       object  \n",
      " 15  est_width  4 non-null       object  \n",
      "dtypes: bool(1), float64(1), geometry(1), object(13)\n",
      "memory usage: 23.9+ MB\n"
     ]
    },
    {
     "data": {
      "text/plain": [
       "None"
      ]
     },
     "metadata": {},
     "output_type": "display_data"
    }
   ],
   "source": [
    "df_edges = pd.DataFrame(edges)\n",
    "basic_eda(df_edges, \"Haiti Roads Data from OSM\")"
   ]
  },
  {
   "cell_type": "markdown",
   "metadata": {},
   "source": [
    "## Let's take a look what kind of features we have in the `highway` column:"
   ]
  },
  {
   "cell_type": "code",
   "execution_count": 14,
   "metadata": {},
   "outputs": [
    {
     "name": "stdout",
     "output_type": "stream",
     "text": [
      "residential                      88924\n",
      "unclassified                     40532\n",
      "tertiary                          8694\n",
      "secondary                         6538\n",
      "primary                           5421\n",
      "[unclassified, residential]        869\n",
      "road                               700\n",
      "living_street                      627\n",
      "[tertiary, unclassified]            58\n",
      "[road, unclassified]                38\n",
      "[living_street, residential]        36\n",
      "[road, residential]                 34\n",
      "secondary_link                      33\n",
      "tertiary_link                       19\n",
      "primary_link                        18\n",
      "[tertiary, residential]             14\n",
      "[living_street, unclassified]       12\n",
      "yes                                 10\n",
      "[tertiary, road]                     2\n",
      "[secondary, tertiary]                2\n",
      "[yes, residential]                   2\n",
      "[secondary, unclassified]            2\n",
      "[secondary, residential]             2\n",
      "Name: highway, dtype: int64\n"
     ]
    }
   ],
   "source": [
    "print(edges['highway'].value_counts())"
   ]
  },
  {
   "cell_type": "markdown",
   "metadata": {},
   "source": [
    "### You can process the retrieved data with any tool of your choice (Pandas in our case) or visualize your data with any of the Python libraries. Let us say we want to get the bar chart of street types. The following process is just pure pandas functionality with seaborn data visualisation."
   ]
  },
  {
   "cell_type": "code",
   "execution_count": 15,
   "metadata": {},
   "outputs": [
    {
     "data": {
      "image/png": "[encoded data removed]",
      "text/plain": [
       "<Figure size 864x720 with 1 Axes>"
      ]
     },
     "metadata": {
      "needs_background": "light"
     },
     "output_type": "display_data"
    }
   ],
   "source": [
    "street_types = pd.DataFrame(edges[\"highway\"].apply(pd.Series)[0].value_counts().reset_index())\n",
    "street_types.columns = [\"type\", \"count\"]\n",
    "fig, ax = plt.subplots(figsize=(12,10))\n",
    "sns.barplot(y=\"type\", x=\"count\", data=street_types, ax=ax)\n",
    "plt.tight_layout()\n",
    "# plt.savefig(\"barchart.png\")\n",
    "plt.title('Street Types');"
   ]
  },
  {
   "cell_type": "markdown",
   "metadata": {},
   "source": [
    "## Let's take a look what kind of features we have in the `oneway` column:"
   ]
  },
  {
   "cell_type": "code",
   "execution_count": 16,
   "metadata": {},
   "outputs": [
    {
     "name": "stdout",
     "output_type": "stream",
     "text": [
      "False    151292\n",
      "True       1295\n",
      "Name: oneway, dtype: int64\n"
     ]
    }
   ],
   "source": [
    "print(edges['oneway'].value_counts())"
   ]
  },
  {
   "cell_type": "markdown",
   "metadata": {},
   "source": [
    "## Let's take a look what kind of features we have in the `lanes` column:"
   ]
  },
  {
   "cell_type": "code",
   "execution_count": 18,
   "metadata": {},
   "outputs": [
    {
     "name": "stdout",
     "output_type": "stream",
     "text": [
      "1         2746\n",
      "2         1855\n",
      "4           93\n",
      "3           38\n",
      "[1, 2]      18\n",
      "6           10\n",
      "5            8\n",
      "0            8\n",
      "[4, 3]       4\n",
      "[2, 3]       4\n",
      "[4, 2]       3\n",
      "Name: lanes, dtype: int64\n"
     ]
    }
   ],
   "source": [
    "print(edges['lanes'].value_counts())"
   ]
  },
  {
   "cell_type": "markdown",
   "metadata": {},
   "source": [
    "## Let's take a look what kind of features we have in the `length` column:"
   ]
  },
  {
   "cell_type": "code",
   "execution_count": 20,
   "metadata": {},
   "outputs": [
    {
     "data": {
      "image/png": "[encoded data removed]",
      "text/plain": [
       "<Figure size 432x288 with 1 Axes>"
      ]
     },
     "metadata": {
      "needs_background": "light"
     },
     "output_type": "display_data"
    }
   ],
   "source": [
    "plt.hist(edges['length'])\n",
    "plt.title('Length of Roads')\n",
    "plt.xlabel('Length') \n",
    "plt.ylabel('Count');"
   ]
  },
  {
   "cell_type": "markdown",
   "metadata": {},
   "source": [
    "## Missing data percentage and count for each attribute"
   ]
  },
  {
   "cell_type": "code",
   "execution_count": 21,
   "metadata": {},
   "outputs": [
    {
     "data": {
      "text/html": [
       "<div>\n",
       "<style scoped>\n",
       "    .dataframe tbody tr th:only-of-type {\n",
       "        vertical-align: middle;\n",
       "    }\n",
       "\n",
       "    .dataframe tbody tr th {\n",
       "        vertical-align: top;\n",
       "    }\n",
       "\n",
       "    .dataframe thead th {\n",
       "        text-align: right;\n",
       "    }\n",
       "</style>\n",
       "<table border=\"1\" class=\"dataframe\">\n",
       "  <thead>\n",
       "    <tr style=\"text-align: right;\">\n",
       "      <th></th>\n",
       "      <th>Percent</th>\n",
       "      <th>Missing Count</th>\n",
       "    </tr>\n",
       "  </thead>\n",
       "  <tbody>\n",
       "    <tr>\n",
       "      <th>service</th>\n",
       "      <td>100.00</td>\n",
       "      <td>152585</td>\n",
       "    </tr>\n",
       "    <tr>\n",
       "      <th>est_width</th>\n",
       "      <td>100.00</td>\n",
       "      <td>152583</td>\n",
       "    </tr>\n",
       "    <tr>\n",
       "      <th>tunnel</th>\n",
       "      <td>99.99</td>\n",
       "      <td>152569</td>\n",
       "    </tr>\n",
       "    <tr>\n",
       "      <th>width</th>\n",
       "      <td>99.96</td>\n",
       "      <td>152533</td>\n",
       "    </tr>\n",
       "    <tr>\n",
       "      <th>junction</th>\n",
       "      <td>99.88</td>\n",
       "      <td>152405</td>\n",
       "    </tr>\n",
       "    <tr>\n",
       "      <th>access</th>\n",
       "      <td>99.72</td>\n",
       "      <td>152158</td>\n",
       "    </tr>\n",
       "    <tr>\n",
       "      <th>maxspeed</th>\n",
       "      <td>99.30</td>\n",
       "      <td>151514</td>\n",
       "    </tr>\n",
       "    <tr>\n",
       "      <th>bridge</th>\n",
       "      <td>98.46</td>\n",
       "      <td>150233</td>\n",
       "    </tr>\n",
       "    <tr>\n",
       "      <th>lanes</th>\n",
       "      <td>96.86</td>\n",
       "      <td>147800</td>\n",
       "    </tr>\n",
       "    <tr>\n",
       "      <th>ref</th>\n",
       "      <td>92.85</td>\n",
       "      <td>141672</td>\n",
       "    </tr>\n",
       "    <tr>\n",
       "      <th>osmid</th>\n",
       "      <td>0.00</td>\n",
       "      <td>0</td>\n",
       "    </tr>\n",
       "    <tr>\n",
       "      <th>name</th>\n",
       "      <td>0.00</td>\n",
       "      <td>0</td>\n",
       "    </tr>\n",
       "    <tr>\n",
       "      <th>geometry</th>\n",
       "      <td>0.00</td>\n",
       "      <td>0</td>\n",
       "    </tr>\n",
       "    <tr>\n",
       "      <th>length</th>\n",
       "      <td>0.00</td>\n",
       "      <td>0</td>\n",
       "    </tr>\n",
       "    <tr>\n",
       "      <th>oneway</th>\n",
       "      <td>0.00</td>\n",
       "      <td>0</td>\n",
       "    </tr>\n",
       "    <tr>\n",
       "      <th>highway</th>\n",
       "      <td>0.00</td>\n",
       "      <td>0</td>\n",
       "    </tr>\n",
       "    <tr>\n",
       "      <th>name_cnt</th>\n",
       "      <td>0.00</td>\n",
       "      <td>0</td>\n",
       "    </tr>\n",
       "  </tbody>\n",
       "</table>\n",
       "</div>"
      ],
      "text/plain": [
       "           Percent  Missing Count\n",
       "service     100.00         152585\n",
       "est_width   100.00         152583\n",
       "tunnel       99.99         152569\n",
       "width        99.96         152533\n",
       "junction     99.88         152405\n",
       "access       99.72         152158\n",
       "maxspeed     99.30         151514\n",
       "bridge       98.46         150233\n",
       "lanes        96.86         147800\n",
       "ref          92.85         141672\n",
       "osmid         0.00              0\n",
       "name          0.00              0\n",
       "geometry      0.00              0\n",
       "length        0.00              0\n",
       "oneway        0.00              0\n",
       "highway       0.00              0\n",
       "name_cnt      0.00              0"
      ]
     },
     "execution_count": 21,
     "metadata": {},
     "output_type": "execute_result"
    }
   ],
   "source": [
    "percent = (edges.isnull().sum()/edges.isnull().count()*100).sort_values(ascending = False).round(2)\n",
    "sum_missing = edges.isna().sum().sort_values(ascending = False)\n",
    "missing_data  = pd.concat([percent, sum_missing], axis=1, keys=['Percent', \"Missing Count\"])\n",
    "missing_data.head(20)"
   ]
  },
  {
   "cell_type": "markdown",
   "metadata": {},
   "source": [
    "# Export OSM data as cvs file"
   ]
  },
  {
   "cell_type": "code",
   "execution_count": 22,
   "metadata": {},
   "outputs": [],
   "source": [
    "# df_edges.to_csv ('Haiti_Roads_OSM.csv', header=True)"
   ]
  },
  {
   "cell_type": "markdown",
   "metadata": {},
   "source": [
    "# Data Scource 2 - Humdata\n",
    "## https://data.humdata.org/dataset/haiti-roads"
   ]
  },
  {
   "cell_type": "code",
   "execution_count": 23,
   "metadata": {},
   "outputs": [
    {
     "name": "stdout",
     "output_type": "stream",
     "text": [
      "\n",
      "************************** Haiti Roads Data from OSM ******************************\n",
      "\n",
      "Performing basic EDA on Haiti Roads Data from OSM dataset\n",
      "\n",
      "* The dataset has 78148 rows and 5 columns.\n",
      "\n",
      "* First 10 rows of the dataset:\n",
      "\n"
     ]
    },
    {
     "data": {
      "text/html": [
       "<div>\n",
       "<style scoped>\n",
       "    .dataframe tbody tr th:only-of-type {\n",
       "        vertical-align: middle;\n",
       "    }\n",
       "\n",
       "    .dataframe tbody tr th {\n",
       "        vertical-align: top;\n",
       "    }\n",
       "\n",
       "    .dataframe thead th {\n",
       "        text-align: right;\n",
       "    }\n",
       "</style>\n",
       "<table border=\"1\" class=\"dataframe\">\n",
       "  <thead>\n",
       "    <tr style=\"text-align: right;\">\n",
       "      <th></th>\n",
       "      <th>#cod_section</th>\n",
       "      <th># names</th>\n",
       "      <th>#name_section</th>\n",
       "      <th>#geo+lat</th>\n",
       "      <th>#geo+lon</th>\n",
       "    </tr>\n",
       "  </thead>\n",
       "  <tbody>\n",
       "    <tr>\n",
       "      <th>0</th>\n",
       "      <td>NaN</td>\n",
       "      <td>NaN</td>\n",
       "      <td>NaN</td>\n",
       "      <td>0.000000</td>\n",
       "      <td>0.000000e+00</td>\n",
       "    </tr>\n",
       "    <tr>\n",
       "      <th>1</th>\n",
       "      <td>NaN</td>\n",
       "      <td>NaN</td>\n",
       "      <td>NaN</td>\n",
       "      <td>0.000000</td>\n",
       "      <td>0.000000e+00</td>\n",
       "    </tr>\n",
       "    <tr>\n",
       "      <th>2</th>\n",
       "      <td>NaN</td>\n",
       "      <td>NaN</td>\n",
       "      <td>NaN</td>\n",
       "      <td>0.000000</td>\n",
       "      <td>0.000000e+00</td>\n",
       "    </tr>\n",
       "    <tr>\n",
       "      <th>3</th>\n",
       "      <td>NaN</td>\n",
       "      <td>NaN</td>\n",
       "      <td>NaN</td>\n",
       "      <td>0.000000</td>\n",
       "      <td>0.000000e+00</td>\n",
       "    </tr>\n",
       "    <tr>\n",
       "      <th>4</th>\n",
       "      <td>NaN</td>\n",
       "      <td>NaN</td>\n",
       "      <td>NaN</td>\n",
       "      <td>0.000000</td>\n",
       "      <td>0.000000e+00</td>\n",
       "    </tr>\n",
       "    <tr>\n",
       "      <th>5</th>\n",
       "      <td>NaN</td>\n",
       "      <td>NaN</td>\n",
       "      <td>NaN</td>\n",
       "      <td>0.000000</td>\n",
       "      <td>0.000000e+00</td>\n",
       "    </tr>\n",
       "    <tr>\n",
       "      <th>6</th>\n",
       "      <td>NaN</td>\n",
       "      <td>NaN</td>\n",
       "      <td>NaN</td>\n",
       "      <td>0.000000</td>\n",
       "      <td>0.000000e+00</td>\n",
       "    </tr>\n",
       "    <tr>\n",
       "      <th>7</th>\n",
       "      <td>TN0000000000001</td>\n",
       "      <td>NaN</td>\n",
       "      <td>NaN</td>\n",
       "      <td>615423.003326</td>\n",
       "      <td>1.997798e+06</td>\n",
       "    </tr>\n",
       "    <tr>\n",
       "      <th>8</th>\n",
       "      <td>TN0000000000002</td>\n",
       "      <td>NaN</td>\n",
       "      <td>NaN</td>\n",
       "      <td>625431.447204</td>\n",
       "      <td>1.998799e+06</td>\n",
       "    </tr>\n",
       "    <tr>\n",
       "      <th>9</th>\n",
       "      <td>NaN</td>\n",
       "      <td>Departementale</td>\n",
       "      <td>RD52</td>\n",
       "      <td>0.000000</td>\n",
       "      <td>0.000000e+00</td>\n",
       "    </tr>\n",
       "  </tbody>\n",
       "</table>\n",
       "</div>"
      ],
      "text/plain": [
       "      #cod_section         # names #name_section       #geo+lat      #geo+lon\n",
       "0              NaN             NaN           NaN       0.000000  0.000000e+00\n",
       "1              NaN             NaN           NaN       0.000000  0.000000e+00\n",
       "2              NaN             NaN           NaN       0.000000  0.000000e+00\n",
       "3              NaN             NaN           NaN       0.000000  0.000000e+00\n",
       "4              NaN             NaN           NaN       0.000000  0.000000e+00\n",
       "5              NaN             NaN           NaN       0.000000  0.000000e+00\n",
       "6              NaN             NaN           NaN       0.000000  0.000000e+00\n",
       "7  TN0000000000001             NaN           NaN  615423.003326  1.997798e+06\n",
       "8  TN0000000000002             NaN           NaN  625431.447204  1.998799e+06\n",
       "9              NaN  Departementale          RD52       0.000000  0.000000e+00"
      ]
     },
     "metadata": {},
     "output_type": "display_data"
    },
    {
     "name": "stdout",
     "output_type": "stream",
     "text": [
      "\n",
      "* Describing the dataset statistics:\n",
      "\n"
     ]
    },
    {
     "data": {
      "text/html": [
       "<div>\n",
       "<style scoped>\n",
       "    .dataframe tbody tr th:only-of-type {\n",
       "        vertical-align: middle;\n",
       "    }\n",
       "\n",
       "    .dataframe tbody tr th {\n",
       "        vertical-align: top;\n",
       "    }\n",
       "\n",
       "    .dataframe thead th {\n",
       "        text-align: right;\n",
       "    }\n",
       "</style>\n",
       "<table border=\"1\" class=\"dataframe\">\n",
       "  <thead>\n",
       "    <tr style=\"text-align: right;\">\n",
       "      <th></th>\n",
       "      <th>#geo+lat</th>\n",
       "      <th>#geo+lon</th>\n",
       "    </tr>\n",
       "  </thead>\n",
       "  <tbody>\n",
       "    <tr>\n",
       "      <th>count</th>\n",
       "      <td>78148.000000</td>\n",
       "      <td>7.814800e+04</td>\n",
       "    </tr>\n",
       "    <tr>\n",
       "      <th>mean</th>\n",
       "      <td>38567.332259</td>\n",
       "      <td>1.079837e+05</td>\n",
       "    </tr>\n",
       "    <tr>\n",
       "      <th>std</th>\n",
       "      <td>166681.650162</td>\n",
       "      <td>4.648984e+05</td>\n",
       "    </tr>\n",
       "    <tr>\n",
       "      <th>min</th>\n",
       "      <td>0.000000</td>\n",
       "      <td>0.000000e+00</td>\n",
       "    </tr>\n",
       "    <tr>\n",
       "      <th>25%</th>\n",
       "      <td>0.000000</td>\n",
       "      <td>0.000000e+00</td>\n",
       "    </tr>\n",
       "    <tr>\n",
       "      <th>50%</th>\n",
       "      <td>0.000000</td>\n",
       "      <td>0.000000e+00</td>\n",
       "    </tr>\n",
       "    <tr>\n",
       "      <th>75%</th>\n",
       "      <td>0.000000</td>\n",
       "      <td>0.000000e+00</td>\n",
       "    </tr>\n",
       "    <tr>\n",
       "      <th>max</th>\n",
       "      <td>849629.998966</td>\n",
       "      <td>2.219495e+06</td>\n",
       "    </tr>\n",
       "  </tbody>\n",
       "</table>\n",
       "</div>"
      ],
      "text/plain": [
       "            #geo+lat      #geo+lon\n",
       "count   78148.000000  7.814800e+04\n",
       "mean    38567.332259  1.079837e+05\n",
       "std    166681.650162  4.648984e+05\n",
       "min         0.000000  0.000000e+00\n",
       "25%         0.000000  0.000000e+00\n",
       "50%         0.000000  0.000000e+00\n",
       "75%         0.000000  0.000000e+00\n",
       "max    849629.998966  2.219495e+06"
      ]
     },
     "metadata": {},
     "output_type": "display_data"
    },
    {
     "name": "stdout",
     "output_type": "stream",
     "text": [
      "\n",
      "* Fetching info of the dataset: \n",
      "\n",
      "<class 'pandas.core.frame.DataFrame'>\n",
      "RangeIndex: 78148 entries, 0 to 78147\n",
      "Data columns (total 5 columns):\n",
      " #   Column         Non-Null Count  Dtype  \n",
      "---  ------         --------------  -----  \n",
      " 0   #cod_section   4004 non-null   object \n",
      " 1   # names        705 non-null    object \n",
      " 2   #name_section  608 non-null    object \n",
      " 3   #geo+lat       78148 non-null  float64\n",
      " 4   #geo+lon       78148 non-null  float64\n",
      "dtypes: float64(2), object(3)\n",
      "memory usage: 3.0+ MB\n"
     ]
    },
    {
     "data": {
      "text/plain": [
       "None"
      ]
     },
     "metadata": {},
     "output_type": "display_data"
    }
   ],
   "source": [
    "import pandas as pd\n",
    "df2 = pd.read_csv('hti_polbndl_rd_cnigs.csv')\n",
    "\n",
    "basic_eda(df2, \"Haiti Roads Data from OSM\")"
   ]
  },
  {
   "cell_type": "code",
   "execution_count": 24,
   "metadata": {},
   "outputs": [
    {
     "data": {
      "text/plain": [
       "Index(['#cod_section', '# names', '#name_section', '#geo+lat', '#geo+lon'], dtype='object')"
      ]
     },
     "execution_count": 24,
     "metadata": {},
     "output_type": "execute_result"
    }
   ],
   "source": [
    "df2.columns"
   ]
  },
  {
   "cell_type": "code",
   "execution_count": 25,
   "metadata": {},
   "outputs": [
    {
     "data": {
      "text/plain": [
       "Departementale         272\n",
       "RN1: Nationale no 1     98\n",
       "RN2: Nationale no 2     89\n",
       "RN3: Nationale no 3     76\n",
       "RN6: Nationale no 6     47\n",
       "RN5: Nationale no 5     40\n",
       "RN8: Nationale no 8     22\n",
       "RN7: Nationale no 7     22\n",
       "NC                      20\n",
       "RN4: Nationale no 4      8\n",
       "Route Lillavois          4\n",
       "R9                       3\n",
       "Route Rail               3\n",
       "RC                       1\n",
       "Name: # names, dtype: int64"
      ]
     },
     "execution_count": 25,
     "metadata": {},
     "output_type": "execute_result"
    }
   ],
   "source": [
    "df2['# names'].value_counts()"
   ]
  },
  {
   "cell_type": "code",
   "execution_count": 26,
   "metadata": {},
   "outputs": [
    {
     "data": {
      "text/plain": [
       "RN1                        98\n",
       "RN2                        88\n",
       "RN3                        76\n",
       "RN6                        47\n",
       "RD52                       33\n",
       "RD25                       28\n",
       "RD12                       28\n",
       "RN5                        24\n",
       "RN8                        22\n",
       "RN7                        22\n",
       "RD41                       19\n",
       "RD11                       16\n",
       "RD31                       15\n",
       "RD32                       12\n",
       "RD42                       11\n",
       "RD51                       10\n",
       "RD13                       10\n",
       "RD21                        7\n",
       "RD14                        7\n",
       "RN4 (Route de l'AmitiΘ)     6\n",
       "RD72                        5\n",
       "RD81                        5\n",
       "RD24                        4\n",
       "RD53                        4\n",
       "RD22                        3\n",
       "RD71                        3\n",
       "RN4                         2\n",
       "Rd51                        1\n",
       "Rd42                        1\n",
       "RD23                        1\n",
       "Name: #name_section, dtype: int64"
      ]
     },
     "execution_count": 26,
     "metadata": {},
     "output_type": "execute_result"
    }
   ],
   "source": [
    "df2['#name_section'].value_counts()"
   ]
  },
  {
   "cell_type": "markdown",
   "metadata": {},
   "source": [
    "# Document your data selection deceisions \n",
    "\n",
    "# Haiti printed/scanned map from IU librian\n",
    "\n",
    "# IU super computing option\n",
    "\n",
    "# breakdown a base layer, random select, verify OSM to is more accurate\n",
    "\n",
    "# near tool in ArcGIS\n",
    "\n",
    "# IU planet access, be more accurate, \n",
    "\n"
   ]
  },
  {
   "cell_type": "code",
   "execution_count": null,
   "metadata": {},
   "outputs": [],
   "source": []
  },
  {
   "cell_type": "code",
   "execution_count": null,
   "metadata": {},
   "outputs": [],
   "source": []
  },
  {
   "cell_type": "code",
   "execution_count": null,
   "metadata": {},
   "outputs": [],
   "source": []
  },
  {
   "cell_type": "code",
   "execution_count": null,
   "metadata": {},
   "outputs": [],
   "source": []
  },
  {
   "cell_type": "code",
   "execution_count": null,
   "metadata": {},
   "outputs": [],
   "source": []
  },
  {
   "cell_type": "code",
   "execution_count": null,
   "metadata": {},
   "outputs": [],
   "source": []
  },
  {
   "cell_type": "code",
   "execution_count": null,
   "metadata": {},
   "outputs": [],
   "source": []
  },
  {
   "cell_type": "code",
   "execution_count": 20,
   "metadata": {},
   "outputs": [],
   "source": [
    "# Get Edges and Nodes\n",
    "nodes_proj, edges_proj = ox.graph_to_gdfs(graph_proj, nodes=True, edges=True)"
   ]
  },
  {
   "cell_type": "code",
   "execution_count": 54,
   "metadata": {},
   "outputs": [
    {
     "name": "stdout",
     "output_type": "stream",
     "text": [
      "Coordinate system: +proj=utm +zone=18 +ellps=WGS84 +datum=WGS84 +units=m +no_defs +type=crs\n"
     ]
    }
   ],
   "source": [
    "# Check crs\n",
    "print(\"Coordinate system:\", edges_proj.crs)"
   ]
  },
  {
   "cell_type": "code",
   "execution_count": 55,
   "metadata": {},
   "outputs": [
    {
     "data": {
      "text/html": [
       "<div>\n",
       "<style scoped>\n",
       "    .dataframe tbody tr th:only-of-type {\n",
       "        vertical-align: middle;\n",
       "    }\n",
       "\n",
       "    .dataframe tbody tr th {\n",
       "        vertical-align: top;\n",
       "    }\n",
       "\n",
       "    .dataframe thead th {\n",
       "        text-align: right;\n",
       "    }\n",
       "</style>\n",
       "<table border=\"1\" class=\"dataframe\">\n",
       "  <thead>\n",
       "    <tr style=\"text-align: right;\">\n",
       "      <th></th>\n",
       "      <th></th>\n",
       "      <th></th>\n",
       "      <th>osmid</th>\n",
       "      <th>oneway</th>\n",
       "      <th>name</th>\n",
       "      <th>highway</th>\n",
       "      <th>length</th>\n",
       "      <th>geometry</th>\n",
       "      <th>lanes</th>\n",
       "      <th>bridge</th>\n",
       "      <th>width</th>\n",
       "      <th>ref</th>\n",
       "      <th>junction</th>\n",
       "      <th>access</th>\n",
       "      <th>maxspeed</th>\n",
       "    </tr>\n",
       "    <tr>\n",
       "      <th>u</th>\n",
       "      <th>v</th>\n",
       "      <th>key</th>\n",
       "      <th></th>\n",
       "      <th></th>\n",
       "      <th></th>\n",
       "      <th></th>\n",
       "      <th></th>\n",
       "      <th></th>\n",
       "      <th></th>\n",
       "      <th></th>\n",
       "      <th></th>\n",
       "      <th></th>\n",
       "      <th></th>\n",
       "      <th></th>\n",
       "      <th></th>\n",
       "    </tr>\n",
       "  </thead>\n",
       "  <tbody>\n",
       "    <tr>\n",
       "      <th rowspan=\"3\" valign=\"top\">258604112</th>\n",
       "      <th>621694911</th>\n",
       "      <th>0</th>\n",
       "      <td>30951697</td>\n",
       "      <td>True</td>\n",
       "      <td>Boulevard Harry Truman</td>\n",
       "      <td>secondary</td>\n",
       "      <td>16.086</td>\n",
       "      <td>LINESTRING (779909.922 2053210.843, 779902.664...</td>\n",
       "      <td>NaN</td>\n",
       "      <td>NaN</td>\n",
       "      <td>NaN</td>\n",
       "      <td>NaN</td>\n",
       "      <td>NaN</td>\n",
       "      <td>NaN</td>\n",
       "      <td>NaN</td>\n",
       "    </tr>\n",
       "    <tr>\n",
       "      <th>6695612844</th>\n",
       "      <th>0</th>\n",
       "      <td>48229774</td>\n",
       "      <td>False</td>\n",
       "      <td>Rue Bonne Foi</td>\n",
       "      <td>unclassified</td>\n",
       "      <td>44.642</td>\n",
       "      <td>LINESTRING (779909.922 2053210.843, 779953.050...</td>\n",
       "      <td>NaN</td>\n",
       "      <td>NaN</td>\n",
       "      <td>NaN</td>\n",
       "      <td>NaN</td>\n",
       "      <td>NaN</td>\n",
       "      <td>NaN</td>\n",
       "      <td>NaN</td>\n",
       "    </tr>\n",
       "    <tr>\n",
       "      <th>6695612843</th>\n",
       "      <th>0</th>\n",
       "      <td>48330154</td>\n",
       "      <td>False</td>\n",
       "      <td>Boulevard la Saline</td>\n",
       "      <td>secondary</td>\n",
       "      <td>48.580</td>\n",
       "      <td>LINESTRING (779909.922 2053210.843, 779923.642...</td>\n",
       "      <td>NaN</td>\n",
       "      <td>NaN</td>\n",
       "      <td>NaN</td>\n",
       "      <td>NaN</td>\n",
       "      <td>NaN</td>\n",
       "      <td>NaN</td>\n",
       "      <td>NaN</td>\n",
       "    </tr>\n",
       "    <tr>\n",
       "      <th>621694911</th>\n",
       "      <th>258604192</th>\n",
       "      <th>0</th>\n",
       "      <td>30951697</td>\n",
       "      <td>True</td>\n",
       "      <td>Boulevard Harry Truman</td>\n",
       "      <td>secondary</td>\n",
       "      <td>252.976</td>\n",
       "      <td>LINESTRING (779902.664 2053196.536, 779892.443...</td>\n",
       "      <td>NaN</td>\n",
       "      <td>NaN</td>\n",
       "      <td>NaN</td>\n",
       "      <td>NaN</td>\n",
       "      <td>NaN</td>\n",
       "      <td>NaN</td>\n",
       "      <td>NaN</td>\n",
       "    </tr>\n",
       "    <tr>\n",
       "      <th>6695612844</th>\n",
       "      <th>612969262</th>\n",
       "      <th>0</th>\n",
       "      <td>48229774</td>\n",
       "      <td>False</td>\n",
       "      <td>Rue Bonne Foi</td>\n",
       "      <td>unclassified</td>\n",
       "      <td>33.082</td>\n",
       "      <td>LINESTRING (779953.050 2053199.051, 779985.009...</td>\n",
       "      <td>NaN</td>\n",
       "      <td>NaN</td>\n",
       "      <td>NaN</td>\n",
       "      <td>NaN</td>\n",
       "      <td>NaN</td>\n",
       "      <td>NaN</td>\n",
       "      <td>NaN</td>\n",
       "    </tr>\n",
       "  </tbody>\n",
       "</table>\n",
       "</div>"
      ],
      "text/plain": [
       "                              osmid  oneway                    name  \\\n",
       "u          v          key                                             \n",
       "258604112  621694911  0    30951697    True  Boulevard Harry Truman   \n",
       "           6695612844 0    48229774   False           Rue Bonne Foi   \n",
       "           6695612843 0    48330154   False     Boulevard la Saline   \n",
       "621694911  258604192  0    30951697    True  Boulevard Harry Truman   \n",
       "6695612844 612969262  0    48229774   False           Rue Bonne Foi   \n",
       "\n",
       "                                highway   length  \\\n",
       "u          v          key                          \n",
       "258604112  621694911  0       secondary   16.086   \n",
       "           6695612844 0    unclassified   44.642   \n",
       "           6695612843 0       secondary   48.580   \n",
       "621694911  258604192  0       secondary  252.976   \n",
       "6695612844 612969262  0    unclassified   33.082   \n",
       "\n",
       "                                                                    geometry  \\\n",
       "u          v          key                                                      \n",
       "258604112  621694911  0    LINESTRING (779909.922 2053210.843, 779902.664...   \n",
       "           6695612844 0    LINESTRING (779909.922 2053210.843, 779953.050...   \n",
       "           6695612843 0    LINESTRING (779909.922 2053210.843, 779923.642...   \n",
       "621694911  258604192  0    LINESTRING (779902.664 2053196.536, 779892.443...   \n",
       "6695612844 612969262  0    LINESTRING (779953.050 2053199.051, 779985.009...   \n",
       "\n",
       "                          lanes bridge width  ref junction access maxspeed  \n",
       "u          v          key                                                   \n",
       "258604112  621694911  0     NaN    NaN   NaN  NaN      NaN    NaN      NaN  \n",
       "           6695612844 0     NaN    NaN   NaN  NaN      NaN    NaN      NaN  \n",
       "           6695612843 0     NaN    NaN   NaN  NaN      NaN    NaN      NaN  \n",
       "621694911  258604192  0     NaN    NaN   NaN  NaN      NaN    NaN      NaN  \n",
       "6695612844 612969262  0     NaN    NaN   NaN  NaN      NaN    NaN      NaN  "
      ]
     },
     "execution_count": 55,
     "metadata": {},
     "output_type": "execute_result"
    }
   ],
   "source": [
    "# First rows\n",
    "edges_proj.head()"
   ]
  },
  {
   "cell_type": "markdown",
   "metadata": {},
   "source": [
    "Okay, as we can see from the CRS the data is now in [UTM projection](https://en.wikipedia.org/wiki/Universal_Transverse_Mercator_coordinate_system) using zone 35 which is the one used for Finland, and indeed the orientation of the map and the geometry values also confirm this.\n"
   ]
  },
  {
   "cell_type": "markdown",
   "metadata": {},
   "source": [
    "Furthermore, we can check the epsg code of this projection using pyproj CRS:"
   ]
  },
  {
   "cell_type": "code",
   "execution_count": 56,
   "metadata": {},
   "outputs": [
    {
     "data": {
      "text/plain": [
       "32618"
      ]
     },
     "execution_count": 56,
     "metadata": {},
     "output_type": "execute_result"
    }
   ],
   "source": [
    "CRS(edges_proj.crs).to_epsg()"
   ]
  },
  {
   "cell_type": "markdown",
   "metadata": {},
   "source": [
    "Indeed, the projection is now [WGS 84 / UTM zone 35N, EPSG:32635](https://epsg.io/32635)."
   ]
  },
  {
   "cell_type": "markdown",
   "metadata": {},
   "source": [
    "## Analyzing the network properties\n",
    "\n",
    "Now as we have seen some of the basic functionalities of OSMnx such as downloading the data and converting data from graph to GeoDataFrame, we can take a look some of the analytical features of omsnx. Osmnx includes many useful functionalities to extract information about the network.\n",
    "\n",
    "To calculate some of the basic street network measures we can use [basic_stats()](https://osmnx.readthedocs.io/en/stable/osmnx.html#osmnx.stats.basic_stats) function in OSMnx:"
   ]
  },
  {
   "cell_type": "code",
   "execution_count": 57,
   "metadata": {},
   "outputs": [
    {
     "data": {
      "text/plain": [
       "{'n': 12913,\n",
       " 'm': 32454,\n",
       " 'k_avg': 5.026562378997909,\n",
       " 'intersection_count': 9635,\n",
       " 'streets_per_node_avg': 2.5903353209943467,\n",
       " 'streets_per_node_counts': {0: 0, 1: 3278, 2: 2, 3: 8372, 4: 1254, 5: 7},\n",
       " 'streets_per_node_proportion': {0: 0.0,\n",
       "  1: 0.2538527065747696,\n",
       "  2: 0.0001548826763726477,\n",
       "  3: 0.6483388832959034,\n",
       "  4: 0.09711143808565012,\n",
       "  5: 0.000542089367304267},\n",
       " 'edge_length_total': 4385910.448999984,\n",
       " 'edge_length_avg': 135.142369168669,\n",
       " 'street_length_total': 2239063.0790000022,\n",
       " 'street_length_avg': 133.9473007298398,\n",
       " 'street_segments_count': 16716,\n",
       " 'node_density_km': None,\n",
       " 'intersection_density_km': None,\n",
       " 'edge_density_km': None,\n",
       " 'street_density_km': None,\n",
       " 'circuity_avg': 1.1127359694111068,\n",
       " 'self_loop_proportion': 0.0007703210698219018,\n",
       " 'clean_intersection_count': None,\n",
       " 'clean_intersection_density_km': None}"
      ]
     },
     "execution_count": 57,
     "metadata": {},
     "output_type": "execute_result"
    }
   ],
   "source": [
    "# Calculate network statistics\n",
    "stats = ox.basic_stats(graph_proj, circuity_dist='euclidean')\n",
    "stats"
   ]
  },
  {
   "cell_type": "markdown",
   "metadata": {},
   "source": [
    "To be able to extract the more advanced statistics (and some of the missing ones above) from the street network, it is required to have information about the coverage area of the network. Let's calculate the area of the [convex hull](https://en.wikipedia.org/wiki/Convex_hull) of the street network and see what we can get.\n",
    "\n"
   ]
  },
  {
   "cell_type": "markdown",
   "metadata": {},
   "source": [
    "Great, now we have saved all the data that was used to produce the maps as Shapefiles."
   ]
  }
 ],
 "metadata": {
  "kernelspec": {
   "display_name": "Python (ox)",
   "language": "python",
   "name": "ox"
  },
  "language_info": {
   "codemirror_mode": {
    "name": "ipython",
    "version": 3
   },
   "file_extension": ".py",
   "mimetype": "text/x-python",
   "name": "python",
   "nbconvert_exporter": "python",
   "pygments_lexer": "ipython3",
   "version": "3.9.1"
  }
 },
 "nbformat": 4,
 "nbformat_minor": 4
}
